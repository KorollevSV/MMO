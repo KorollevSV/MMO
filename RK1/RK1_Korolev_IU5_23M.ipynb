{
  "nbformat": 4,
  "nbformat_minor": 0,
  "metadata": {
    "colab": {
      "name": "RK1_Korolev_IU5_23M.ipynb",
      "provenance": [],
      "collapsed_sections": []
    },
    "kernelspec": {
      "name": "python3",
      "display_name": "Python 3"
    },
    "language_info": {
      "name": "python"
    }
  },
  "cells": [
    {
      "cell_type": "code",
      "execution_count": 30,
      "metadata": {
        "id": "2-O3aaGsALlM"
      },
      "outputs": [],
      "source": [
        "import numpy as np\n",
        "import pandas as pd\n",
        "import seaborn as sns\n",
        "import scipy.stats as stats\n",
        "import matplotlib.pyplot as plt\n",
        "from sklearn.datasets import load_wine\n",
        "from sklearn.svm import LinearSVC\n",
        "from sklearn.feature_selection import SelectFromModel\n",
        "from sklearn.linear_model import LogisticRegression\n",
        "from sklearn.impute import SimpleImputer\n",
        "from sklearn.impute import MissingIndicator\n",
        "%matplotlib inline \n",
        "sns.set(style=\"ticks\")"
      ]
    },
    {
      "cell_type": "markdown",
      "source": [
        "# РК1\n",
        "## Тема: Методы обработки данных.\n",
        "## Студент: Королев Святослав Владимирович\n",
        "## Группа: ИУ5-23М\n",
        "## Номер по списку группы (вариант): 6\n",
        "### Вариант задачи №1 - 6\n",
        "Для набора данных проведите устранение пропусков для одного (произвольного) числового признака с использованием метода заполнения средним значением.\n",
        "\n",
        "### Вариант задачи №2 - 26\n",
        "Для набора данных для одного (произвольного) числового признака проведите обнаружение и замену (найденными верхними и нижними границами) выбросов на основе правила трех сигм.\n",
        "\n",
        "### Дополнительное задание (по группам)\n",
        "Для произвольной колонки данных построить график \"Ящик с усами (boxplot)\"."
      ],
      "metadata": {
        "id": "gRxKVYR5Aloq"
      }
    },
    {
      "cell_type": "markdown",
      "source": [
        "# Задача 1 (№6)\n",
        "Для набора данных проведите устранение пропусков для одного (произвольного) числового признака с использованием метода заполнения средним значением."
      ],
      "metadata": {
        "id": "4Swst_jcBgH4"
      }
    },
    {
      "cell_type": "markdown",
      "source": [
        "> Загрузка набора данных с характеристиками самолетов"
      ],
      "metadata": {
        "id": "SDSQ4VqpJOT8"
      }
    },
    {
      "cell_type": "code",
      "source": [
        "data = pd.read_csv('/content/drive/MyDrive/datasets/Aiplane_BlueBook.csv')\n",
        "data.head()"
      ],
      "metadata": {
        "colab": {
          "base_uri": "https://localhost:8080/",
          "height": 436
        },
        "id": "i1JG132aBgAa",
        "outputId": "bbac1a0a-aaab-423c-8f2f-05ceb798035f"
      },
      "execution_count": 31,
      "outputs": [
        {
          "output_type": "execute_result",
          "data": {
            "text/plain": [
              "               Model  Company Engine Type HP or lbs thr ea engine  \\\n",
              "0        15 AC Sedan  Aeronca      Piston                     145   \n",
              "1  11 CC Super Chief  Aeronca      Piston                      85   \n",
              "2        7 CCM Champ  Aeronca      Piston                      90   \n",
              "3         7 DC Champ  Aeronca      Piston                      85   \n",
              "4         7 AC Champ  Aeronca      Piston                      65   \n",
              "\n",
              "  Max speed Knots Rcmnd cruise Knots Stall Knots dirty  Fuel gal/lbs  \\\n",
              "0             104                 91                46          36.0   \n",
              "1              89                 83                44          15.0   \n",
              "2              90                 78                37          19.0   \n",
              "3              88                 78                37          19.0   \n",
              "4              83                 74                33          14.0   \n",
              "\n",
              "   All eng service ceiling Eng out service ceiling  ... Takeoff over 50ft  \\\n",
              "0                  13000.0                     NaN  ...             900.0   \n",
              "1                  12300.0                     NaN  ...             720.0   \n",
              "2                  16000.0                     NaN  ...             475.0   \n",
              "3                  13000.0                     NaN  ...             500.0   \n",
              "4                  12500.0                     NaN  ...             632.0   \n",
              "\n",
              "  Takeoff ground run  Landing over 50ft  Landing ground roll  \\\n",
              "0                NaN             1300.0                  NaN   \n",
              "1                NaN              800.0                  NaN   \n",
              "2                NaN              850.0                  NaN   \n",
              "3                NaN              850.0                  NaN   \n",
              "4                NaN              885.0                  NaN   \n",
              "\n",
              "   Gross weight lbs  Empty weight lbs Length ft/in Height ft/in  \\\n",
              "0              2050              1180         25/3         10/3   \n",
              "1              1350               820         20/7          8/9   \n",
              "2              1300               810         21/5          8/7   \n",
              "3              1300               800         21/5          8/7   \n",
              "4              1220               740         21/5          8/9   \n",
              "\n",
              "  Wing span ft/in Range N.M.  \n",
              "0            37/5        370  \n",
              "1            36/1        190  \n",
              "2            35/0        210  \n",
              "3            35/0        210  \n",
              "4            35/0        175  \n",
              "\n",
              "[5 rows x 22 columns]"
            ],
            "text/html": [
              "\n",
              "  <div id=\"df-86afcfc9-4bc2-486a-8ae2-ab36131b0fe9\">\n",
              "    <div class=\"colab-df-container\">\n",
              "      <div>\n",
              "<style scoped>\n",
              "    .dataframe tbody tr th:only-of-type {\n",
              "        vertical-align: middle;\n",
              "    }\n",
              "\n",
              "    .dataframe tbody tr th {\n",
              "        vertical-align: top;\n",
              "    }\n",
              "\n",
              "    .dataframe thead th {\n",
              "        text-align: right;\n",
              "    }\n",
              "</style>\n",
              "<table border=\"1\" class=\"dataframe\">\n",
              "  <thead>\n",
              "    <tr style=\"text-align: right;\">\n",
              "      <th></th>\n",
              "      <th>Model</th>\n",
              "      <th>Company</th>\n",
              "      <th>Engine Type</th>\n",
              "      <th>HP or lbs thr ea engine</th>\n",
              "      <th>Max speed Knots</th>\n",
              "      <th>Rcmnd cruise Knots</th>\n",
              "      <th>Stall Knots dirty</th>\n",
              "      <th>Fuel gal/lbs</th>\n",
              "      <th>All eng service ceiling</th>\n",
              "      <th>Eng out service ceiling</th>\n",
              "      <th>...</th>\n",
              "      <th>Takeoff over 50ft</th>\n",
              "      <th>Takeoff ground run</th>\n",
              "      <th>Landing over 50ft</th>\n",
              "      <th>Landing ground roll</th>\n",
              "      <th>Gross weight lbs</th>\n",
              "      <th>Empty weight lbs</th>\n",
              "      <th>Length ft/in</th>\n",
              "      <th>Height ft/in</th>\n",
              "      <th>Wing span ft/in</th>\n",
              "      <th>Range N.M.</th>\n",
              "    </tr>\n",
              "  </thead>\n",
              "  <tbody>\n",
              "    <tr>\n",
              "      <th>0</th>\n",
              "      <td>15 AC Sedan</td>\n",
              "      <td>Aeronca</td>\n",
              "      <td>Piston</td>\n",
              "      <td>145</td>\n",
              "      <td>104</td>\n",
              "      <td>91</td>\n",
              "      <td>46</td>\n",
              "      <td>36.0</td>\n",
              "      <td>13000.0</td>\n",
              "      <td>NaN</td>\n",
              "      <td>...</td>\n",
              "      <td>900.0</td>\n",
              "      <td>NaN</td>\n",
              "      <td>1300.0</td>\n",
              "      <td>NaN</td>\n",
              "      <td>2050</td>\n",
              "      <td>1180</td>\n",
              "      <td>25/3</td>\n",
              "      <td>10/3</td>\n",
              "      <td>37/5</td>\n",
              "      <td>370</td>\n",
              "    </tr>\n",
              "    <tr>\n",
              "      <th>1</th>\n",
              "      <td>11 CC Super Chief</td>\n",
              "      <td>Aeronca</td>\n",
              "      <td>Piston</td>\n",
              "      <td>85</td>\n",
              "      <td>89</td>\n",
              "      <td>83</td>\n",
              "      <td>44</td>\n",
              "      <td>15.0</td>\n",
              "      <td>12300.0</td>\n",
              "      <td>NaN</td>\n",
              "      <td>...</td>\n",
              "      <td>720.0</td>\n",
              "      <td>NaN</td>\n",
              "      <td>800.0</td>\n",
              "      <td>NaN</td>\n",
              "      <td>1350</td>\n",
              "      <td>820</td>\n",
              "      <td>20/7</td>\n",
              "      <td>8/9</td>\n",
              "      <td>36/1</td>\n",
              "      <td>190</td>\n",
              "    </tr>\n",
              "    <tr>\n",
              "      <th>2</th>\n",
              "      <td>7 CCM Champ</td>\n",
              "      <td>Aeronca</td>\n",
              "      <td>Piston</td>\n",
              "      <td>90</td>\n",
              "      <td>90</td>\n",
              "      <td>78</td>\n",
              "      <td>37</td>\n",
              "      <td>19.0</td>\n",
              "      <td>16000.0</td>\n",
              "      <td>NaN</td>\n",
              "      <td>...</td>\n",
              "      <td>475.0</td>\n",
              "      <td>NaN</td>\n",
              "      <td>850.0</td>\n",
              "      <td>NaN</td>\n",
              "      <td>1300</td>\n",
              "      <td>810</td>\n",
              "      <td>21/5</td>\n",
              "      <td>8/7</td>\n",
              "      <td>35/0</td>\n",
              "      <td>210</td>\n",
              "    </tr>\n",
              "    <tr>\n",
              "      <th>3</th>\n",
              "      <td>7 DC Champ</td>\n",
              "      <td>Aeronca</td>\n",
              "      <td>Piston</td>\n",
              "      <td>85</td>\n",
              "      <td>88</td>\n",
              "      <td>78</td>\n",
              "      <td>37</td>\n",
              "      <td>19.0</td>\n",
              "      <td>13000.0</td>\n",
              "      <td>NaN</td>\n",
              "      <td>...</td>\n",
              "      <td>500.0</td>\n",
              "      <td>NaN</td>\n",
              "      <td>850.0</td>\n",
              "      <td>NaN</td>\n",
              "      <td>1300</td>\n",
              "      <td>800</td>\n",
              "      <td>21/5</td>\n",
              "      <td>8/7</td>\n",
              "      <td>35/0</td>\n",
              "      <td>210</td>\n",
              "    </tr>\n",
              "    <tr>\n",
              "      <th>4</th>\n",
              "      <td>7 AC Champ</td>\n",
              "      <td>Aeronca</td>\n",
              "      <td>Piston</td>\n",
              "      <td>65</td>\n",
              "      <td>83</td>\n",
              "      <td>74</td>\n",
              "      <td>33</td>\n",
              "      <td>14.0</td>\n",
              "      <td>12500.0</td>\n",
              "      <td>NaN</td>\n",
              "      <td>...</td>\n",
              "      <td>632.0</td>\n",
              "      <td>NaN</td>\n",
              "      <td>885.0</td>\n",
              "      <td>NaN</td>\n",
              "      <td>1220</td>\n",
              "      <td>740</td>\n",
              "      <td>21/5</td>\n",
              "      <td>8/9</td>\n",
              "      <td>35/0</td>\n",
              "      <td>175</td>\n",
              "    </tr>\n",
              "  </tbody>\n",
              "</table>\n",
              "<p>5 rows × 22 columns</p>\n",
              "</div>\n",
              "      <button class=\"colab-df-convert\" onclick=\"convertToInteractive('df-86afcfc9-4bc2-486a-8ae2-ab36131b0fe9')\"\n",
              "              title=\"Convert this dataframe to an interactive table.\"\n",
              "              style=\"display:none;\">\n",
              "        \n",
              "  <svg xmlns=\"http://www.w3.org/2000/svg\" height=\"24px\"viewBox=\"0 0 24 24\"\n",
              "       width=\"24px\">\n",
              "    <path d=\"M0 0h24v24H0V0z\" fill=\"none\"/>\n",
              "    <path d=\"M18.56 5.44l.94 2.06.94-2.06 2.06-.94-2.06-.94-.94-2.06-.94 2.06-2.06.94zm-11 1L8.5 8.5l.94-2.06 2.06-.94-2.06-.94L8.5 2.5l-.94 2.06-2.06.94zm10 10l.94 2.06.94-2.06 2.06-.94-2.06-.94-.94-2.06-.94 2.06-2.06.94z\"/><path d=\"M17.41 7.96l-1.37-1.37c-.4-.4-.92-.59-1.43-.59-.52 0-1.04.2-1.43.59L10.3 9.45l-7.72 7.72c-.78.78-.78 2.05 0 2.83L4 21.41c.39.39.9.59 1.41.59.51 0 1.02-.2 1.41-.59l7.78-7.78 2.81-2.81c.8-.78.8-2.07 0-2.86zM5.41 20L4 18.59l7.72-7.72 1.47 1.35L5.41 20z\"/>\n",
              "  </svg>\n",
              "      </button>\n",
              "      \n",
              "  <style>\n",
              "    .colab-df-container {\n",
              "      display:flex;\n",
              "      flex-wrap:wrap;\n",
              "      gap: 12px;\n",
              "    }\n",
              "\n",
              "    .colab-df-convert {\n",
              "      background-color: #E8F0FE;\n",
              "      border: none;\n",
              "      border-radius: 50%;\n",
              "      cursor: pointer;\n",
              "      display: none;\n",
              "      fill: #1967D2;\n",
              "      height: 32px;\n",
              "      padding: 0 0 0 0;\n",
              "      width: 32px;\n",
              "    }\n",
              "\n",
              "    .colab-df-convert:hover {\n",
              "      background-color: #E2EBFA;\n",
              "      box-shadow: 0px 1px 2px rgba(60, 64, 67, 0.3), 0px 1px 3px 1px rgba(60, 64, 67, 0.15);\n",
              "      fill: #174EA6;\n",
              "    }\n",
              "\n",
              "    [theme=dark] .colab-df-convert {\n",
              "      background-color: #3B4455;\n",
              "      fill: #D2E3FC;\n",
              "    }\n",
              "\n",
              "    [theme=dark] .colab-df-convert:hover {\n",
              "      background-color: #434B5C;\n",
              "      box-shadow: 0px 1px 3px 1px rgba(0, 0, 0, 0.15);\n",
              "      filter: drop-shadow(0px 1px 2px rgba(0, 0, 0, 0.3));\n",
              "      fill: #FFFFFF;\n",
              "    }\n",
              "  </style>\n",
              "\n",
              "      <script>\n",
              "        const buttonEl =\n",
              "          document.querySelector('#df-86afcfc9-4bc2-486a-8ae2-ab36131b0fe9 button.colab-df-convert');\n",
              "        buttonEl.style.display =\n",
              "          google.colab.kernel.accessAllowed ? 'block' : 'none';\n",
              "\n",
              "        async function convertToInteractive(key) {\n",
              "          const element = document.querySelector('#df-86afcfc9-4bc2-486a-8ae2-ab36131b0fe9');\n",
              "          const dataTable =\n",
              "            await google.colab.kernel.invokeFunction('convertToInteractive',\n",
              "                                                     [key], {});\n",
              "          if (!dataTable) return;\n",
              "\n",
              "          const docLinkHtml = 'Like what you see? Visit the ' +\n",
              "            '<a target=\"_blank\" href=https://colab.research.google.com/notebooks/data_table.ipynb>data table notebook</a>'\n",
              "            + ' to learn more about interactive tables.';\n",
              "          element.innerHTML = '';\n",
              "          dataTable['output_type'] = 'display_data';\n",
              "          await google.colab.output.renderOutput(dataTable, element);\n",
              "          const docLink = document.createElement('div');\n",
              "          docLink.innerHTML = docLinkHtml;\n",
              "          element.appendChild(docLink);\n",
              "        }\n",
              "      </script>\n",
              "    </div>\n",
              "  </div>\n",
              "  "
            ]
          },
          "metadata": {},
          "execution_count": 31
        }
      ]
    },
    {
      "cell_type": "markdown",
      "source": [
        "> Использование SimpleImputer для заполнения значений"
      ],
      "metadata": {
        "id": "LUCoIV_9HbUE"
      }
    },
    {
      "cell_type": "code",
      "source": [
        "def impute_column(dataset, column, strategy_param, fill_value_param=None):\n",
        "    \"\"\"\n",
        "    Заполнение пропусков в одном признаке\n",
        "    \"\"\"\n",
        "    temp_data = dataset[[column]].values\n",
        "    size = temp_data.shape[0]\n",
        "    \n",
        "    indicator = MissingIndicator()\n",
        "    mask_missing_values_only = indicator.fit_transform(temp_data)\n",
        "    \n",
        "    imputer = SimpleImputer(strategy=strategy_param, \n",
        "                            fill_value=fill_value_param)\n",
        "    all_data = imputer.fit_transform(temp_data)\n",
        "    \n",
        "    missed_data = temp_data[mask_missing_values_only]\n",
        "    filled_data = all_data[mask_missing_values_only]\n",
        "    \n",
        "    return all_data.reshape((size,)), filled_data, missed_data"
      ],
      "metadata": {
        "id": "17tArF1oBRwF"
      },
      "execution_count": 32,
      "outputs": []
    },
    {
      "cell_type": "code",
      "source": [
        "all_data, filled_data, missed_data = impute_column(data, 'Fuel gal/lbs', 'mean')\n",
        "all_data[:20]"
      ],
      "metadata": {
        "colab": {
          "base_uri": "https://localhost:8080/"
        },
        "id": "f4DnZSmsBSca",
        "outputId": "36cff516-f7d8-43f7-a81e-36295d72f06e"
      },
      "execution_count": 34,
      "outputs": [
        {
          "output_type": "execute_result",
          "data": {
            "text/plain": [
              "array([ 36.,  15.,  19.,  19.,  14.,  15., 165., 165., 165., 165., 174.,\n",
              "       165.,  80.,  80.,  64.,  46.,  46.,  64.,  46.,  46.])"
            ]
          },
          "metadata": {},
          "execution_count": 34
        }
      ]
    },
    {
      "cell_type": "markdown",
      "source": [
        "> Пропуски были заполнены средним значением"
      ],
      "metadata": {
        "id": "qSd8VKI9HkCP"
      }
    },
    {
      "cell_type": "code",
      "source": [
        "filled_data"
      ],
      "metadata": {
        "colab": {
          "base_uri": "https://localhost:8080/"
        },
        "id": "4nyoeSilBcmS",
        "outputId": "e9a812d6-1d44-442a-ed6f-9c19100b78db"
      },
      "execution_count": 35,
      "outputs": [
        {
          "output_type": "execute_result",
          "data": {
            "text/plain": [
              "array([2511.82403965, 2511.82403965, 2511.82403965, 2511.82403965,\n",
              "       2511.82403965, 2511.82403965, 2511.82403965, 2511.82403965,\n",
              "       2511.82403965, 2511.82403965, 2511.82403965, 2511.82403965,\n",
              "       2511.82403965, 2511.82403965, 2511.82403965, 2511.82403965,\n",
              "       2511.82403965, 2511.82403965, 2511.82403965, 2511.82403965,\n",
              "       2511.82403965, 2511.82403965, 2511.82403965, 2511.82403965,\n",
              "       2511.82403965, 2511.82403965, 2511.82403965, 2511.82403965,\n",
              "       2511.82403965, 2511.82403965, 2511.82403965, 2511.82403965,\n",
              "       2511.82403965, 2511.82403965, 2511.82403965, 2511.82403965,\n",
              "       2511.82403965, 2511.82403965, 2511.82403965, 2511.82403965,\n",
              "       2511.82403965, 2511.82403965, 2511.82403965, 2511.82403965,\n",
              "       2511.82403965, 2511.82403965, 2511.82403965, 2511.82403965,\n",
              "       2511.82403965, 2511.82403965, 2511.82403965, 2511.82403965,\n",
              "       2511.82403965, 2511.82403965])"
            ]
          },
          "metadata": {},
          "execution_count": 35
        }
      ]
    },
    {
      "cell_type": "code",
      "source": [
        "missed_data"
      ],
      "metadata": {
        "colab": {
          "base_uri": "https://localhost:8080/"
        },
        "id": "aufmZd8aBdxL",
        "outputId": "fb4575e9-65ff-46b1-b3b6-9a7ad3163624"
      },
      "execution_count": 36,
      "outputs": [
        {
          "output_type": "execute_result",
          "data": {
            "text/plain": [
              "array([nan, nan, nan, nan, nan, nan, nan, nan, nan, nan, nan, nan, nan,\n",
              "       nan, nan, nan, nan, nan, nan, nan, nan, nan, nan, nan, nan, nan,\n",
              "       nan, nan, nan, nan, nan, nan, nan, nan, nan, nan, nan, nan, nan,\n",
              "       nan, nan, nan, nan, nan, nan, nan, nan, nan, nan, nan, nan, nan,\n",
              "       nan, nan])"
            ]
          },
          "metadata": {},
          "execution_count": 36
        }
      ]
    },
    {
      "cell_type": "code",
      "source": [
        "data['Fuel imputed'] = all_data.tolist()"
      ],
      "metadata": {
        "id": "RX6Lne34DBJe"
      },
      "execution_count": 37,
      "outputs": []
    },
    {
      "cell_type": "markdown",
      "source": [
        "> Среднее значение колонки "
      ],
      "metadata": {
        "id": "r1QMy4ObHn_z"
      }
    },
    {
      "cell_type": "code",
      "source": [
        "data['Fuel gal/lbs'].mean()"
      ],
      "metadata": {
        "colab": {
          "base_uri": "https://localhost:8080/"
        },
        "id": "_i2u5aOUFwrq",
        "outputId": "c5dee36a-d558-4d49-c62b-a76fa8c40066"
      },
      "execution_count": 38,
      "outputs": [
        {
          "output_type": "execute_result",
          "data": {
            "text/plain": [
              "2511.824039653036"
            ]
          },
          "metadata": {},
          "execution_count": 38
        }
      ]
    },
    {
      "cell_type": "markdown",
      "source": [
        "> Фрагмент набора данных с новыми значениями колонок"
      ],
      "metadata": {
        "id": "uiDCkdUkHrjX"
      }
    },
    {
      "cell_type": "code",
      "source": [
        "data.loc[data['Max speed Knots'].isna(), ['Model','Fuel gal/lbs','Fuel imputed']].sample(5, random_state = 1)"
      ],
      "metadata": {
        "colab": {
          "base_uri": "https://localhost:8080/",
          "height": 206
        },
        "id": "7X8vTeXjDowR",
        "outputId": "a50c6f3f-daf7-4362-e7e7-62e0246770a7"
      },
      "execution_count": 39,
      "outputs": [
        {
          "output_type": "execute_result",
          "data": {
            "text/plain": [
              "                               Model  Fuel gal/lbs  Fuel imputed\n",
              "815            Piper PA-23-250 Aztec           NaN    2511.82404\n",
              "505                      Merlin II B         386.0     386.00000\n",
              "816          Piper PA-34 Seneca I,II           NaN    2511.82404\n",
              "804  Cessna 337 (turbo, pressurized)           NaN    2511.82404\n",
              "506                      Merlin II A         386.0     386.00000"
            ],
            "text/html": [
              "\n",
              "  <div id=\"df-39f999be-7642-4c86-be0e-5ed683ff3f45\">\n",
              "    <div class=\"colab-df-container\">\n",
              "      <div>\n",
              "<style scoped>\n",
              "    .dataframe tbody tr th:only-of-type {\n",
              "        vertical-align: middle;\n",
              "    }\n",
              "\n",
              "    .dataframe tbody tr th {\n",
              "        vertical-align: top;\n",
              "    }\n",
              "\n",
              "    .dataframe thead th {\n",
              "        text-align: right;\n",
              "    }\n",
              "</style>\n",
              "<table border=\"1\" class=\"dataframe\">\n",
              "  <thead>\n",
              "    <tr style=\"text-align: right;\">\n",
              "      <th></th>\n",
              "      <th>Model</th>\n",
              "      <th>Fuel gal/lbs</th>\n",
              "      <th>Fuel imputed</th>\n",
              "    </tr>\n",
              "  </thead>\n",
              "  <tbody>\n",
              "    <tr>\n",
              "      <th>815</th>\n",
              "      <td>Piper PA-23-250 Aztec</td>\n",
              "      <td>NaN</td>\n",
              "      <td>2511.82404</td>\n",
              "    </tr>\n",
              "    <tr>\n",
              "      <th>505</th>\n",
              "      <td>Merlin II B</td>\n",
              "      <td>386.0</td>\n",
              "      <td>386.00000</td>\n",
              "    </tr>\n",
              "    <tr>\n",
              "      <th>816</th>\n",
              "      <td>Piper PA-34 Seneca I,II</td>\n",
              "      <td>NaN</td>\n",
              "      <td>2511.82404</td>\n",
              "    </tr>\n",
              "    <tr>\n",
              "      <th>804</th>\n",
              "      <td>Cessna 337 (turbo, pressurized)</td>\n",
              "      <td>NaN</td>\n",
              "      <td>2511.82404</td>\n",
              "    </tr>\n",
              "    <tr>\n",
              "      <th>506</th>\n",
              "      <td>Merlin II A</td>\n",
              "      <td>386.0</td>\n",
              "      <td>386.00000</td>\n",
              "    </tr>\n",
              "  </tbody>\n",
              "</table>\n",
              "</div>\n",
              "      <button class=\"colab-df-convert\" onclick=\"convertToInteractive('df-39f999be-7642-4c86-be0e-5ed683ff3f45')\"\n",
              "              title=\"Convert this dataframe to an interactive table.\"\n",
              "              style=\"display:none;\">\n",
              "        \n",
              "  <svg xmlns=\"http://www.w3.org/2000/svg\" height=\"24px\"viewBox=\"0 0 24 24\"\n",
              "       width=\"24px\">\n",
              "    <path d=\"M0 0h24v24H0V0z\" fill=\"none\"/>\n",
              "    <path d=\"M18.56 5.44l.94 2.06.94-2.06 2.06-.94-2.06-.94-.94-2.06-.94 2.06-2.06.94zm-11 1L8.5 8.5l.94-2.06 2.06-.94-2.06-.94L8.5 2.5l-.94 2.06-2.06.94zm10 10l.94 2.06.94-2.06 2.06-.94-2.06-.94-.94-2.06-.94 2.06-2.06.94z\"/><path d=\"M17.41 7.96l-1.37-1.37c-.4-.4-.92-.59-1.43-.59-.52 0-1.04.2-1.43.59L10.3 9.45l-7.72 7.72c-.78.78-.78 2.05 0 2.83L4 21.41c.39.39.9.59 1.41.59.51 0 1.02-.2 1.41-.59l7.78-7.78 2.81-2.81c.8-.78.8-2.07 0-2.86zM5.41 20L4 18.59l7.72-7.72 1.47 1.35L5.41 20z\"/>\n",
              "  </svg>\n",
              "      </button>\n",
              "      \n",
              "  <style>\n",
              "    .colab-df-container {\n",
              "      display:flex;\n",
              "      flex-wrap:wrap;\n",
              "      gap: 12px;\n",
              "    }\n",
              "\n",
              "    .colab-df-convert {\n",
              "      background-color: #E8F0FE;\n",
              "      border: none;\n",
              "      border-radius: 50%;\n",
              "      cursor: pointer;\n",
              "      display: none;\n",
              "      fill: #1967D2;\n",
              "      height: 32px;\n",
              "      padding: 0 0 0 0;\n",
              "      width: 32px;\n",
              "    }\n",
              "\n",
              "    .colab-df-convert:hover {\n",
              "      background-color: #E2EBFA;\n",
              "      box-shadow: 0px 1px 2px rgba(60, 64, 67, 0.3), 0px 1px 3px 1px rgba(60, 64, 67, 0.15);\n",
              "      fill: #174EA6;\n",
              "    }\n",
              "\n",
              "    [theme=dark] .colab-df-convert {\n",
              "      background-color: #3B4455;\n",
              "      fill: #D2E3FC;\n",
              "    }\n",
              "\n",
              "    [theme=dark] .colab-df-convert:hover {\n",
              "      background-color: #434B5C;\n",
              "      box-shadow: 0px 1px 3px 1px rgba(0, 0, 0, 0.15);\n",
              "      filter: drop-shadow(0px 1px 2px rgba(0, 0, 0, 0.3));\n",
              "      fill: #FFFFFF;\n",
              "    }\n",
              "  </style>\n",
              "\n",
              "      <script>\n",
              "        const buttonEl =\n",
              "          document.querySelector('#df-39f999be-7642-4c86-be0e-5ed683ff3f45 button.colab-df-convert');\n",
              "        buttonEl.style.display =\n",
              "          google.colab.kernel.accessAllowed ? 'block' : 'none';\n",
              "\n",
              "        async function convertToInteractive(key) {\n",
              "          const element = document.querySelector('#df-39f999be-7642-4c86-be0e-5ed683ff3f45');\n",
              "          const dataTable =\n",
              "            await google.colab.kernel.invokeFunction('convertToInteractive',\n",
              "                                                     [key], {});\n",
              "          if (!dataTable) return;\n",
              "\n",
              "          const docLinkHtml = 'Like what you see? Visit the ' +\n",
              "            '<a target=\"_blank\" href=https://colab.research.google.com/notebooks/data_table.ipynb>data table notebook</a>'\n",
              "            + ' to learn more about interactive tables.';\n",
              "          element.innerHTML = '';\n",
              "          dataTable['output_type'] = 'display_data';\n",
              "          await google.colab.output.renderOutput(dataTable, element);\n",
              "          const docLink = document.createElement('div');\n",
              "          docLink.innerHTML = docLinkHtml;\n",
              "          element.appendChild(docLink);\n",
              "        }\n",
              "      </script>\n",
              "    </div>\n",
              "  </div>\n",
              "  "
            ]
          },
          "metadata": {},
          "execution_count": 39
        }
      ]
    },
    {
      "cell_type": "markdown",
      "source": [
        "> Визуализация статистических показателей колонки"
      ],
      "metadata": {
        "id": "_SVmliN4H6sW"
      }
    },
    {
      "cell_type": "code",
      "source": [
        "def research_impute_numeric_column(dataset, num_column, const_value=None):\n",
        "    strategy_params = ['mean', 'median', 'most_frequent', 'constant']\n",
        "    strategy_params_names = ['Среднее', 'Медиана', 'Мода']\n",
        "    strategy_params_names.append('Константа = ' + str(const_value))\n",
        "    \n",
        "    original_temp_data = dataset[[num_column]].values\n",
        "    size = original_temp_data.shape[0]\n",
        "    original_data = original_temp_data.reshape((size,))\n",
        "    \n",
        "    new_df = pd.DataFrame({'Исходные данные':original_data})\n",
        "       \n",
        "    for i in range(len(strategy_params)):\n",
        "        strategy = strategy_params[i]\n",
        "        col_name = strategy_params_names[i]\n",
        "        if (strategy!='constant') or (strategy == 'constant' and const_value!=None):\n",
        "            if strategy == 'constant':\n",
        "                temp_data, _, _ = impute_column(dataset, num_column, strategy, fill_value_param=const_value)\n",
        "            else:\n",
        "                temp_data, _, _ = impute_column(dataset, num_column, strategy)\n",
        "            new_df[col_name] = temp_data\n",
        "        \n",
        "    sns.kdeplot(data=new_df)"
      ],
      "metadata": {
        "id": "XCOGWvZ7Bhve"
      },
      "execution_count": 41,
      "outputs": []
    },
    {
      "cell_type": "code",
      "source": [
        "research_impute_numeric_column(data, 'Fuel gal/lbs')"
      ],
      "metadata": {
        "colab": {
          "base_uri": "https://localhost:8080/",
          "height": 279
        },
        "id": "D91iBNMqBmEo",
        "outputId": "bc386a2e-8a7f-4ea2-9c29-7468f8b7d3ef"
      },
      "execution_count": 42,
      "outputs": [
        {
          "output_type": "display_data",
          "data": {
            "text/plain": [
              "<Figure size 432x288 with 1 Axes>"
            ],
            "image/png": "[encoded data removed]"
          },
          "metadata": {}
        }
      ]
    },
    {
      "cell_type": "markdown",
      "source": [
        "# Задача 2 (№26)\n",
        "Для набора данных для одного (произвольного) числового признака проведите обнаружение и замену (найденными верхними и нижними границами) выбросов на основе правила трех сигм."
      ],
      "metadata": {
        "id": "-8Z_BHipBoSq"
      }
    },
    {
      "cell_type": "markdown",
      "source": [
        "> Загрузка набора данных с характеристиками самолетов без пропусков:"
      ],
      "metadata": {
        "id": "SFHO5RaSKcu5"
      }
    },
    {
      "cell_type": "code",
      "source": [
        "data = pd.read_csv('/content/drive/MyDrive/datasets/cleaned_data_airplanes.csv')"
      ],
      "metadata": {
        "id": "a3Ey-D6ND2hl"
      },
      "execution_count": 43,
      "outputs": []
    },
    {
      "cell_type": "markdown",
      "source": [
        "> Удаление лишних колонок:"
      ],
      "metadata": {
        "id": "IeuL1dO8KiTQ"
      }
    },
    {
      "cell_type": "code",
      "source": [
        "data = data.drop(['Range N.M._log', 'Range N.M._reciprocal',\n",
        "       'Range N.M._sqr', 'Range N.M._exp1', 'Range N.M._exp2',\n",
        "       'Range N.M._exp3', 'Range N.M._exp4', 'Range N.M._boxcox', 'row_num'], axis = 1)"
      ],
      "metadata": {
        "id": "8KWOqIsWIsO3"
      },
      "execution_count": 44,
      "outputs": []
    },
    {
      "cell_type": "markdown",
      "source": [
        "> Вид набора данных:"
      ],
      "metadata": {
        "id": "ee1RcrH1KlTX"
      }
    },
    {
      "cell_type": "code",
      "source": [
        "data.head()"
      ],
      "metadata": {
        "colab": {
          "base_uri": "https://localhost:8080/",
          "height": 406
        },
        "id": "3WnyxRXqHJ0N",
        "outputId": "2185fab6-9f08-4b0e-ec10-df857a5d8d26"
      },
      "execution_count": 45,
      "outputs": [
        {
          "output_type": "execute_result",
          "data": {
            "text/plain": [
              "               Model  Company Engine Type HP or lbs thr ea engine  \\\n",
              "0        15 AC Sedan  Aeronca      Piston                     145   \n",
              "1  11 CC Super Chief  Aeronca      Piston                      85   \n",
              "2        7 CCM Champ  Aeronca      Piston                      90   \n",
              "3         7 DC Champ  Aeronca      Piston                      85   \n",
              "4         7 AC Champ  Aeronca      Piston                      65   \n",
              "\n",
              "  Max speed Knots  Rcmnd cruise Knots  Stall Knots dirty  \\\n",
              "0             104                91.0               46.0   \n",
              "1              89                83.0               44.0   \n",
              "2              90                78.0               37.0   \n",
              "3              88                78.0               37.0   \n",
              "4              83                74.0               33.0   \n",
              "\n",
              "  All eng rate of climb Gross weight lbs  Empty weight lbs Length ft/in  \\\n",
              "0                   450             2050            1180.0         25/3   \n",
              "1                   600             1350             820.0         20/7   \n",
              "2                   650             1300             810.0         21/5   \n",
              "3                   620             1300             800.0         21/5   \n",
              "4                   370             1220             740.0         21/5   \n",
              "\n",
              "  Height ft/in Wing span ft/in  Range N.M.  Fuel gal/lbs  \\\n",
              "0         10/3            37/5       370.0          36.0   \n",
              "1          8/9            36/1       190.0          15.0   \n",
              "2          8/7            35/0       210.0          19.0   \n",
              "3          8/7            35/0       210.0          19.0   \n",
              "4          8/9            35/0       175.0          14.0   \n",
              "\n",
              "   All eng service ceiling  Takeoff over 50ft  Takeoff ground run  \\\n",
              "0                  13000.0              900.0         1013.678850   \n",
              "1                  12300.0              720.0          907.323545   \n",
              "2                  16000.0              475.0         1071.689468   \n",
              "3                  13000.0              500.0         1060.980507   \n",
              "4                  12500.0              632.0          990.702907   \n",
              "\n",
              "   Landing over 50ft  Landing ground roll  \n",
              "0             1300.0           572.706741  \n",
              "1              800.0           537.637167  \n",
              "2              850.0           634.209014  \n",
              "3              850.0           672.914759  \n",
              "4              885.0           565.608815  "
            ],
            "text/html": [
              "\n",
              "  <div id=\"df-c58a4d33-2e69-40cc-af75-cc5e46c3ead2\">\n",
              "    <div class=\"colab-df-container\">\n",
              "      <div>\n",
              "<style scoped>\n",
              "    .dataframe tbody tr th:only-of-type {\n",
              "        vertical-align: middle;\n",
              "    }\n",
              "\n",
              "    .dataframe tbody tr th {\n",
              "        vertical-align: top;\n",
              "    }\n",
              "\n",
              "    .dataframe thead th {\n",
              "        text-align: right;\n",
              "    }\n",
              "</style>\n",
              "<table border=\"1\" class=\"dataframe\">\n",
              "  <thead>\n",
              "    <tr style=\"text-align: right;\">\n",
              "      <th></th>\n",
              "      <th>Model</th>\n",
              "      <th>Company</th>\n",
              "      <th>Engine Type</th>\n",
              "      <th>HP or lbs thr ea engine</th>\n",
              "      <th>Max speed Knots</th>\n",
              "      <th>Rcmnd cruise Knots</th>\n",
              "      <th>Stall Knots dirty</th>\n",
              "      <th>All eng rate of climb</th>\n",
              "      <th>Gross weight lbs</th>\n",
              "      <th>Empty weight lbs</th>\n",
              "      <th>Length ft/in</th>\n",
              "      <th>Height ft/in</th>\n",
              "      <th>Wing span ft/in</th>\n",
              "      <th>Range N.M.</th>\n",
              "      <th>Fuel gal/lbs</th>\n",
              "      <th>All eng service ceiling</th>\n",
              "      <th>Takeoff over 50ft</th>\n",
              "      <th>Takeoff ground run</th>\n",
              "      <th>Landing over 50ft</th>\n",
              "      <th>Landing ground roll</th>\n",
              "    </tr>\n",
              "  </thead>\n",
              "  <tbody>\n",
              "    <tr>\n",
              "      <th>0</th>\n",
              "      <td>15 AC Sedan</td>\n",
              "      <td>Aeronca</td>\n",
              "      <td>Piston</td>\n",
              "      <td>145</td>\n",
              "      <td>104</td>\n",
              "      <td>91.0</td>\n",
              "      <td>46.0</td>\n",
              "      <td>450</td>\n",
              "      <td>2050</td>\n",
              "      <td>1180.0</td>\n",
              "      <td>25/3</td>\n",
              "      <td>10/3</td>\n",
              "      <td>37/5</td>\n",
              "      <td>370.0</td>\n",
              "      <td>36.0</td>\n",
              "      <td>13000.0</td>\n",
              "      <td>900.0</td>\n",
              "      <td>1013.678850</td>\n",
              "      <td>1300.0</td>\n",
              "      <td>572.706741</td>\n",
              "    </tr>\n",
              "    <tr>\n",
              "      <th>1</th>\n",
              "      <td>11 CC Super Chief</td>\n",
              "      <td>Aeronca</td>\n",
              "      <td>Piston</td>\n",
              "      <td>85</td>\n",
              "      <td>89</td>\n",
              "      <td>83.0</td>\n",
              "      <td>44.0</td>\n",
              "      <td>600</td>\n",
              "      <td>1350</td>\n",
              "      <td>820.0</td>\n",
              "      <td>20/7</td>\n",
              "      <td>8/9</td>\n",
              "      <td>36/1</td>\n",
              "      <td>190.0</td>\n",
              "      <td>15.0</td>\n",
              "      <td>12300.0</td>\n",
              "      <td>720.0</td>\n",
              "      <td>907.323545</td>\n",
              "      <td>800.0</td>\n",
              "      <td>537.637167</td>\n",
              "    </tr>\n",
              "    <tr>\n",
              "      <th>2</th>\n",
              "      <td>7 CCM Champ</td>\n",
              "      <td>Aeronca</td>\n",
              "      <td>Piston</td>\n",
              "      <td>90</td>\n",
              "      <td>90</td>\n",
              "      <td>78.0</td>\n",
              "      <td>37.0</td>\n",
              "      <td>650</td>\n",
              "      <td>1300</td>\n",
              "      <td>810.0</td>\n",
              "      <td>21/5</td>\n",
              "      <td>8/7</td>\n",
              "      <td>35/0</td>\n",
              "      <td>210.0</td>\n",
              "      <td>19.0</td>\n",
              "      <td>16000.0</td>\n",
              "      <td>475.0</td>\n",
              "      <td>1071.689468</td>\n",
              "      <td>850.0</td>\n",
              "      <td>634.209014</td>\n",
              "    </tr>\n",
              "    <tr>\n",
              "      <th>3</th>\n",
              "      <td>7 DC Champ</td>\n",
              "      <td>Aeronca</td>\n",
              "      <td>Piston</td>\n",
              "      <td>85</td>\n",
              "      <td>88</td>\n",
              "      <td>78.0</td>\n",
              "      <td>37.0</td>\n",
              "      <td>620</td>\n",
              "      <td>1300</td>\n",
              "      <td>800.0</td>\n",
              "      <td>21/5</td>\n",
              "      <td>8/7</td>\n",
              "      <td>35/0</td>\n",
              "      <td>210.0</td>\n",
              "      <td>19.0</td>\n",
              "      <td>13000.0</td>\n",
              "      <td>500.0</td>\n",
              "      <td>1060.980507</td>\n",
              "      <td>850.0</td>\n",
              "      <td>672.914759</td>\n",
              "    </tr>\n",
              "    <tr>\n",
              "      <th>4</th>\n",
              "      <td>7 AC Champ</td>\n",
              "      <td>Aeronca</td>\n",
              "      <td>Piston</td>\n",
              "      <td>65</td>\n",
              "      <td>83</td>\n",
              "      <td>74.0</td>\n",
              "      <td>33.0</td>\n",
              "      <td>370</td>\n",
              "      <td>1220</td>\n",
              "      <td>740.0</td>\n",
              "      <td>21/5</td>\n",
              "      <td>8/9</td>\n",
              "      <td>35/0</td>\n",
              "      <td>175.0</td>\n",
              "      <td>14.0</td>\n",
              "      <td>12500.0</td>\n",
              "      <td>632.0</td>\n",
              "      <td>990.702907</td>\n",
              "      <td>885.0</td>\n",
              "      <td>565.608815</td>\n",
              "    </tr>\n",
              "  </tbody>\n",
              "</table>\n",
              "</div>\n",
              "      <button class=\"colab-df-convert\" onclick=\"convertToInteractive('df-c58a4d33-2e69-40cc-af75-cc5e46c3ead2')\"\n",
              "              title=\"Convert this dataframe to an interactive table.\"\n",
              "              style=\"display:none;\">\n",
              "        \n",
              "  <svg xmlns=\"http://www.w3.org/2000/svg\" height=\"24px\"viewBox=\"0 0 24 24\"\n",
              "       width=\"24px\">\n",
              "    <path d=\"M0 0h24v24H0V0z\" fill=\"none\"/>\n",
              "    <path d=\"M18.56 5.44l.94 2.06.94-2.06 2.06-.94-2.06-.94-.94-2.06-.94 2.06-2.06.94zm-11 1L8.5 8.5l.94-2.06 2.06-.94-2.06-.94L8.5 2.5l-.94 2.06-2.06.94zm10 10l.94 2.06.94-2.06 2.06-.94-2.06-.94-.94-2.06-.94 2.06-2.06.94z\"/><path d=\"M17.41 7.96l-1.37-1.37c-.4-.4-.92-.59-1.43-.59-.52 0-1.04.2-1.43.59L10.3 9.45l-7.72 7.72c-.78.78-.78 2.05 0 2.83L4 21.41c.39.39.9.59 1.41.59.51 0 1.02-.2 1.41-.59l7.78-7.78 2.81-2.81c.8-.78.8-2.07 0-2.86zM5.41 20L4 18.59l7.72-7.72 1.47 1.35L5.41 20z\"/>\n",
              "  </svg>\n",
              "      </button>\n",
              "      \n",
              "  <style>\n",
              "    .colab-df-container {\n",
              "      display:flex;\n",
              "      flex-wrap:wrap;\n",
              "      gap: 12px;\n",
              "    }\n",
              "\n",
              "    .colab-df-convert {\n",
              "      background-color: #E8F0FE;\n",
              "      border: none;\n",
              "      border-radius: 50%;\n",
              "      cursor: pointer;\n",
              "      display: none;\n",
              "      fill: #1967D2;\n",
              "      height: 32px;\n",
              "      padding: 0 0 0 0;\n",
              "      width: 32px;\n",
              "    }\n",
              "\n",
              "    .colab-df-convert:hover {\n",
              "      background-color: #E2EBFA;\n",
              "      box-shadow: 0px 1px 2px rgba(60, 64, 67, 0.3), 0px 1px 3px 1px rgba(60, 64, 67, 0.15);\n",
              "      fill: #174EA6;\n",
              "    }\n",
              "\n",
              "    [theme=dark] .colab-df-convert {\n",
              "      background-color: #3B4455;\n",
              "      fill: #D2E3FC;\n",
              "    }\n",
              "\n",
              "    [theme=dark] .colab-df-convert:hover {\n",
              "      background-color: #434B5C;\n",
              "      box-shadow: 0px 1px 3px 1px rgba(0, 0, 0, 0.15);\n",
              "      filter: drop-shadow(0px 1px 2px rgba(0, 0, 0, 0.3));\n",
              "      fill: #FFFFFF;\n",
              "    }\n",
              "  </style>\n",
              "\n",
              "      <script>\n",
              "        const buttonEl =\n",
              "          document.querySelector('#df-c58a4d33-2e69-40cc-af75-cc5e46c3ead2 button.colab-df-convert');\n",
              "        buttonEl.style.display =\n",
              "          google.colab.kernel.accessAllowed ? 'block' : 'none';\n",
              "\n",
              "        async function convertToInteractive(key) {\n",
              "          const element = document.querySelector('#df-c58a4d33-2e69-40cc-af75-cc5e46c3ead2');\n",
              "          const dataTable =\n",
              "            await google.colab.kernel.invokeFunction('convertToInteractive',\n",
              "                                                     [key], {});\n",
              "          if (!dataTable) return;\n",
              "\n",
              "          const docLinkHtml = 'Like what you see? Visit the ' +\n",
              "            '<a target=\"_blank\" href=https://colab.research.google.com/notebooks/data_table.ipynb>data table notebook</a>'\n",
              "            + ' to learn more about interactive tables.';\n",
              "          element.innerHTML = '';\n",
              "          dataTable['output_type'] = 'display_data';\n",
              "          await google.colab.output.renderOutput(dataTable, element);\n",
              "          const docLink = document.createElement('div');\n",
              "          docLink.innerHTML = docLinkHtml;\n",
              "          element.appendChild(docLink);\n",
              "        }\n",
              "      </script>\n",
              "    </div>\n",
              "  </div>\n",
              "  "
            ]
          },
          "metadata": {},
          "execution_count": 45
        }
      ]
    },
    {
      "cell_type": "markdown",
      "source": [
        "> Информация о наборе данных:"
      ],
      "metadata": {
        "id": "ozJRtcPOKnwX"
      }
    },
    {
      "cell_type": "code",
      "source": [
        "print(data.info())"
      ],
      "metadata": {
        "colab": {
          "base_uri": "https://localhost:8080/"
        },
        "id": "s0619vBDIs82",
        "outputId": "528cfb18-378d-476e-edc0-77fd051afc4a"
      },
      "execution_count": 46,
      "outputs": [
        {
          "output_type": "stream",
          "name": "stdout",
          "text": [
            "<class 'pandas.core.frame.DataFrame'>\n",
            "RangeIndex: 615 entries, 0 to 614\n",
            "Data columns (total 20 columns):\n",
            " #   Column                   Non-Null Count  Dtype  \n",
            "---  ------                   --------------  -----  \n",
            " 0   Model                    615 non-null    object \n",
            " 1   Company                  615 non-null    object \n",
            " 2   Engine Type              615 non-null    object \n",
            " 3   HP or lbs thr ea engine  615 non-null    object \n",
            " 4   Max speed Knots          615 non-null    object \n",
            " 5   Rcmnd cruise Knots       615 non-null    float64\n",
            " 6   Stall Knots dirty        615 non-null    float64\n",
            " 7   All eng rate of climb    615 non-null    object \n",
            " 8   Gross weight lbs         615 non-null    object \n",
            " 9   Empty weight lbs         615 non-null    float64\n",
            " 10  Length ft/in             615 non-null    object \n",
            " 11  Height ft/in             615 non-null    object \n",
            " 12  Wing span ft/in          615 non-null    object \n",
            " 13  Range N.M.               615 non-null    float64\n",
            " 14  Fuel gal/lbs             615 non-null    float64\n",
            " 15  All eng service ceiling  615 non-null    float64\n",
            " 16  Takeoff over 50ft        615 non-null    float64\n",
            " 17  Takeoff ground run       615 non-null    float64\n",
            " 18  Landing over 50ft        615 non-null    float64\n",
            " 19  Landing ground roll      615 non-null    float64\n",
            "dtypes: float64(10), object(10)\n",
            "memory usage: 96.2+ KB\n",
            "None\n"
          ]
        }
      ]
    },
    {
      "cell_type": "markdown",
      "source": [
        "> Функция вывода графиков, описывающих данные в определенной колонке:"
      ],
      "metadata": {
        "id": "AdPgv-ViKqz_"
      }
    },
    {
      "cell_type": "code",
      "source": [
        "def diagnostic_plots(df, variable, title):\n",
        "    fig, ax = plt.subplots(figsize=(15,10))\n",
        "    # гистограмма\n",
        "    plt.subplot(2, 2, 1)\n",
        "    df[variable].hist(bins=30)\n",
        "    ## Q-Q plot\n",
        "    plt.subplot(2, 2, 2)\n",
        "    stats.probplot(df[variable], dist=\"norm\", plot=plt)\n",
        "    # ящик с усами\n",
        "    plt.subplot(2, 2, 3)\n",
        "    sns.violinplot(x=df[variable])    \n",
        "    # ящик с усами\n",
        "    plt.subplot(2, 2, 4)\n",
        "    sns.boxplot(x=df[variable])  \n",
        "    fig.suptitle(title)\n",
        "    plt.show()"
      ],
      "metadata": {
        "id": "eRV-vvbRBfo5"
      },
      "execution_count": 47,
      "outputs": []
    },
    {
      "cell_type": "markdown",
      "source": [
        "> Графики, описывающие колонку `Empty weight lbs`:\n",
        "\n",
        "Наблюдается большое количество выбросов на большом диапазоне до `40000`"
      ],
      "metadata": {
        "id": "FNkycIKAKwX4"
      }
    },
    {
      "cell_type": "code",
      "source": [
        "diagnostic_plots(data, 'Empty weight lbs', 'Empty weight lbs - original')"
      ],
      "metadata": {
        "colab": {
          "base_uri": "https://localhost:8080/",
          "height": 683
        },
        "id": "PNOOvQKzBfmT",
        "outputId": "4fffdac3-dd65-4dca-88bf-5251b653a7e4"
      },
      "execution_count": 48,
      "outputs": [
        {
          "output_type": "display_data",
          "data": {
            "text/plain": [
              "<Figure size 1080x720 with 4 Axes>"
            ],
            "image/png": "[encoded data removed]"
          },
          "metadata": {}
        }
      ]
    },
    {
      "cell_type": "markdown",
      "source": [
        "> Удаление выбросов в колонке `Empty weight lbs`:\n",
        "\n",
        "В результате число выбросов уменьшилось, максимальный выброс в районе `17500` вместо `40000`"
      ],
      "metadata": {
        "id": "owbMhJfTLBDO"
      }
    },
    {
      "cell_type": "code",
      "source": [
        "# Вычисление верхней и нижней границы\n",
        "K1 = 3\n",
        "lower_boundary = data['Empty weight lbs'].mean() - (K1 * data['Empty weight lbs'].std())\n",
        "upper_boundary = data['Empty weight lbs'].mean() + (K1 * data['Empty weight lbs'].std())\n",
        "# Флаги для удаления выбросов\n",
        "outliers_temp = np.where(data['Empty weight lbs'] > upper_boundary, True, \n",
        "                          np.where(data['Empty weight lbs'] < lower_boundary, True, False))\n",
        "# Удаление данных на основе флага\n",
        "data_trimmed = data.loc[~(outliers_temp), ]  \n",
        "title = '\\nПоле - {}, метод - {}, строк - {}'.format('Empty weight lbs', 'SIGMA', data_trimmed.shape[0])\n",
        "diagnostic_plots(data_trimmed, 'Empty weight lbs', title)"
      ],
      "metadata": {
        "colab": {
          "base_uri": "https://localhost:8080/",
          "height": 683
        },
        "id": "FKTRqZ9gBfkE",
        "outputId": "8503e1fd-e8b9-4d52-cbb6-3be891eeb848"
      },
      "execution_count": 49,
      "outputs": [
        {
          "output_type": "display_data",
          "data": {
            "text/plain": [
              "<Figure size 1080x720 with 4 Axes>"
            ],
            "image/png": "[encoded data removed]"
          },
          "metadata": {}
        }
      ]
    },
    {
      "cell_type": "markdown",
      "source": [
        "# Дополнительное задание\n",
        "Для произвольной колонки данных построить график \"Ящик с усами (boxplot)\"."
      ],
      "metadata": {
        "id": "FNspYQxLBxN_"
      }
    },
    {
      "cell_type": "code",
      "source": [
        "plt.figure(figsize = (15, 7))\n",
        "plt.grid()\n",
        "plt.title('\\nЯщик с усами для колонки Range N.M.', {'fontsize' : 20})\n",
        "sns.boxplot(x = data['Range N.M.']) "
      ],
      "metadata": {
        "colab": {
          "base_uri": "https://localhost:8080/",
          "height": 508
        },
        "id": "am15IfCnBxEg",
        "outputId": "4761d7d8-628d-47b5-dd06-379a419cd1da"
      },
      "execution_count": 50,
      "outputs": [
        {
          "output_type": "execute_result",
          "data": {
            "text/plain": [
              "<matplotlib.axes._subplots.AxesSubplot at 0x7fb80433b790>"
            ]
          },
          "metadata": {},
          "execution_count": 50
        },
        {
          "output_type": "display_data",
          "data": {
            "text/plain": [
              "<Figure size 1080x504 with 1 Axes>"
            ],
            "image/png": "[encoded data removed]"
          },
          "metadata": {}
        }
      ]
    }
  ]
}