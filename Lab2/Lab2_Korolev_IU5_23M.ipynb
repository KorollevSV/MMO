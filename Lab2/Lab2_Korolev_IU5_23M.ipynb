{
  "nbformat": 4,
  "nbformat_minor": 0,
  "metadata": {
    "colab": {
      "name": "Lab2_Korolev_IU5_23M.ipynb",
      "provenance": [],
      "collapsed_sections": []
    },
    "kernelspec": {
      "name": "python3",
      "display_name": "Python 3"
    },
    "language_info": {
      "name": "python"
    }
  },
  "cells": [
    {
      "cell_type": "code",
      "source": [
        "import pandas as pd\n",
        "import numpy as np\n",
        "import seaborn as sns\n",
        "from  matplotlib import pyplot as plt\n",
        "\n",
        "from sklearn.impute import MissingIndicator\n",
        "from sklearn.impute import SimpleImputer\n",
        "from sklearn.impute import KNNImputer\n",
        "\n",
        "import scipy.stats as stats"
      ],
      "metadata": {
        "id": "jmNmgV-fhzpd"
      },
      "execution_count": 2,
      "outputs": []
    },
    {
      "cell_type": "markdown",
      "source": [
        "# Первичная обработка набора данных"
      ],
      "metadata": {
        "id": "gnGfgQ-Mhu7I"
      }
    },
    {
      "cell_type": "code",
      "source": [
        "data = pd.read_csv('/content/drive/MyDrive/datasets/Aiplane_BlueBook.csv')\n",
        "data.head()"
      ],
      "metadata": {
        "colab": {
          "base_uri": "https://localhost:8080/",
          "height": 436
        },
        "id": "Kh9QT43RhvrG",
        "outputId": "be572068-702c-454f-cb15-05e9dc82899e"
      },
      "execution_count": 3,
      "outputs": [
        {
          "output_type": "execute_result",
          "data": {
            "text/plain": [
              "               Model  Company Engine Type HP or lbs thr ea engine  \\\n",
              "0        15 AC Sedan  Aeronca      Piston                     145   \n",
              "1  11 CC Super Chief  Aeronca      Piston                      85   \n",
              "2        7 CCM Champ  Aeronca      Piston                      90   \n",
              "3         7 DC Champ  Aeronca      Piston                      85   \n",
              "4         7 AC Champ  Aeronca      Piston                      65   \n",
              "\n",
              "  Max speed Knots Rcmnd cruise Knots Stall Knots dirty  Fuel gal/lbs  \\\n",
              "0             104                 91                46          36.0   \n",
              "1              89                 83                44          15.0   \n",
              "2              90                 78                37          19.0   \n",
              "3              88                 78                37          19.0   \n",
              "4              83                 74                33          14.0   \n",
              "\n",
              "   All eng service ceiling Eng out service ceiling  ... Takeoff over 50ft  \\\n",
              "0                  13000.0                     NaN  ...             900.0   \n",
              "1                  12300.0                     NaN  ...             720.0   \n",
              "2                  16000.0                     NaN  ...             475.0   \n",
              "3                  13000.0                     NaN  ...             500.0   \n",
              "4                  12500.0                     NaN  ...             632.0   \n",
              "\n",
              "  Takeoff ground run  Landing over 50ft  Landing ground roll  \\\n",
              "0                NaN             1300.0                  NaN   \n",
              "1                NaN              800.0                  NaN   \n",
              "2                NaN              850.0                  NaN   \n",
              "3                NaN              850.0                  NaN   \n",
              "4                NaN              885.0                  NaN   \n",
              "\n",
              "   Gross weight lbs  Empty weight lbs Length ft/in Height ft/in  \\\n",
              "0              2050              1180         25/3         10/3   \n",
              "1              1350               820         20/7          8/9   \n",
              "2              1300               810         21/5          8/7   \n",
              "3              1300               800         21/5          8/7   \n",
              "4              1220               740         21/5          8/9   \n",
              "\n",
              "  Wing span ft/in Range N.M.  \n",
              "0            37/5        370  \n",
              "1            36/1        190  \n",
              "2            35/0        210  \n",
              "3            35/0        210  \n",
              "4            35/0        175  \n",
              "\n",
              "[5 rows x 22 columns]"
            ],
            "text/html": [
              "\n",
              "  <div id=\"df-c10deda1-f1db-4d4c-9287-9ae200f719d9\">\n",
              "    <div class=\"colab-df-container\">\n",
              "      <div>\n",
              "<style scoped>\n",
              "    .dataframe tbody tr th:only-of-type {\n",
              "        vertical-align: middle;\n",
              "    }\n",
              "\n",
              "    .dataframe tbody tr th {\n",
              "        vertical-align: top;\n",
              "    }\n",
              "\n",
              "    .dataframe thead th {\n",
              "        text-align: right;\n",
              "    }\n",
              "</style>\n",
              "<table border=\"1\" class=\"dataframe\">\n",
              "  <thead>\n",
              "    <tr style=\"text-align: right;\">\n",
              "      <th></th>\n",
              "      <th>Model</th>\n",
              "      <th>Company</th>\n",
              "      <th>Engine Type</th>\n",
              "      <th>HP or lbs thr ea engine</th>\n",
              "      <th>Max speed Knots</th>\n",
              "      <th>Rcmnd cruise Knots</th>\n",
              "      <th>Stall Knots dirty</th>\n",
              "      <th>Fuel gal/lbs</th>\n",
              "      <th>All eng service ceiling</th>\n",
              "      <th>Eng out service ceiling</th>\n",
              "      <th>...</th>\n",
              "      <th>Takeoff over 50ft</th>\n",
              "      <th>Takeoff ground run</th>\n",
              "      <th>Landing over 50ft</th>\n",
              "      <th>Landing ground roll</th>\n",
              "      <th>Gross weight lbs</th>\n",
              "      <th>Empty weight lbs</th>\n",
              "      <th>Length ft/in</th>\n",
              "      <th>Height ft/in</th>\n",
              "      <th>Wing span ft/in</th>\n",
              "      <th>Range N.M.</th>\n",
              "    </tr>\n",
              "  </thead>\n",
              "  <tbody>\n",
              "    <tr>\n",
              "      <th>0</th>\n",
              "      <td>15 AC Sedan</td>\n",
              "      <td>Aeronca</td>\n",
              "      <td>Piston</td>\n",
              "      <td>145</td>\n",
              "      <td>104</td>\n",
              "      <td>91</td>\n",
              "      <td>46</td>\n",
              "      <td>36.0</td>\n",
              "      <td>13000.0</td>\n",
              "      <td>NaN</td>\n",
              "      <td>...</td>\n",
              "      <td>900.0</td>\n",
              "      <td>NaN</td>\n",
              "      <td>1300.0</td>\n",
              "      <td>NaN</td>\n",
              "      <td>2050</td>\n",
              "      <td>1180</td>\n",
              "      <td>25/3</td>\n",
              "      <td>10/3</td>\n",
              "      <td>37/5</td>\n",
              "      <td>370</td>\n",
              "    </tr>\n",
              "    <tr>\n",
              "      <th>1</th>\n",
              "      <td>11 CC Super Chief</td>\n",
              "      <td>Aeronca</td>\n",
              "      <td>Piston</td>\n",
              "      <td>85</td>\n",
              "      <td>89</td>\n",
              "      <td>83</td>\n",
              "      <td>44</td>\n",
              "      <td>15.0</td>\n",
              "      <td>12300.0</td>\n",
              "      <td>NaN</td>\n",
              "      <td>...</td>\n",
              "      <td>720.0</td>\n",
              "      <td>NaN</td>\n",
              "      <td>800.0</td>\n",
              "      <td>NaN</td>\n",
              "      <td>1350</td>\n",
              "      <td>820</td>\n",
              "      <td>20/7</td>\n",
              "      <td>8/9</td>\n",
              "      <td>36/1</td>\n",
              "      <td>190</td>\n",
              "    </tr>\n",
              "    <tr>\n",
              "      <th>2</th>\n",
              "      <td>7 CCM Champ</td>\n",
              "      <td>Aeronca</td>\n",
              "      <td>Piston</td>\n",
              "      <td>90</td>\n",
              "      <td>90</td>\n",
              "      <td>78</td>\n",
              "      <td>37</td>\n",
              "      <td>19.0</td>\n",
              "      <td>16000.0</td>\n",
              "      <td>NaN</td>\n",
              "      <td>...</td>\n",
              "      <td>475.0</td>\n",
              "      <td>NaN</td>\n",
              "      <td>850.0</td>\n",
              "      <td>NaN</td>\n",
              "      <td>1300</td>\n",
              "      <td>810</td>\n",
              "      <td>21/5</td>\n",
              "      <td>8/7</td>\n",
              "      <td>35/0</td>\n",
              "      <td>210</td>\n",
              "    </tr>\n",
              "    <tr>\n",
              "      <th>3</th>\n",
              "      <td>7 DC Champ</td>\n",
              "      <td>Aeronca</td>\n",
              "      <td>Piston</td>\n",
              "      <td>85</td>\n",
              "      <td>88</td>\n",
              "      <td>78</td>\n",
              "      <td>37</td>\n",
              "      <td>19.0</td>\n",
              "      <td>13000.0</td>\n",
              "      <td>NaN</td>\n",
              "      <td>...</td>\n",
              "      <td>500.0</td>\n",
              "      <td>NaN</td>\n",
              "      <td>850.0</td>\n",
              "      <td>NaN</td>\n",
              "      <td>1300</td>\n",
              "      <td>800</td>\n",
              "      <td>21/5</td>\n",
              "      <td>8/7</td>\n",
              "      <td>35/0</td>\n",
              "      <td>210</td>\n",
              "    </tr>\n",
              "    <tr>\n",
              "      <th>4</th>\n",
              "      <td>7 AC Champ</td>\n",
              "      <td>Aeronca</td>\n",
              "      <td>Piston</td>\n",
              "      <td>65</td>\n",
              "      <td>83</td>\n",
              "      <td>74</td>\n",
              "      <td>33</td>\n",
              "      <td>14.0</td>\n",
              "      <td>12500.0</td>\n",
              "      <td>NaN</td>\n",
              "      <td>...</td>\n",
              "      <td>632.0</td>\n",
              "      <td>NaN</td>\n",
              "      <td>885.0</td>\n",
              "      <td>NaN</td>\n",
              "      <td>1220</td>\n",
              "      <td>740</td>\n",
              "      <td>21/5</td>\n",
              "      <td>8/9</td>\n",
              "      <td>35/0</td>\n",
              "      <td>175</td>\n",
              "    </tr>\n",
              "  </tbody>\n",
              "</table>\n",
              "<p>5 rows × 22 columns</p>\n",
              "</div>\n",
              "      <button class=\"colab-df-convert\" onclick=\"convertToInteractive('df-c10deda1-f1db-4d4c-9287-9ae200f719d9')\"\n",
              "              title=\"Convert this dataframe to an interactive table.\"\n",
              "              style=\"display:none;\">\n",
              "        \n",
              "  <svg xmlns=\"http://www.w3.org/2000/svg\" height=\"24px\"viewBox=\"0 0 24 24\"\n",
              "       width=\"24px\">\n",
              "    <path d=\"M0 0h24v24H0V0z\" fill=\"none\"/>\n",
              "    <path d=\"M18.56 5.44l.94 2.06.94-2.06 2.06-.94-2.06-.94-.94-2.06-.94 2.06-2.06.94zm-11 1L8.5 8.5l.94-2.06 2.06-.94-2.06-.94L8.5 2.5l-.94 2.06-2.06.94zm10 10l.94 2.06.94-2.06 2.06-.94-2.06-.94-.94-2.06-.94 2.06-2.06.94z\"/><path d=\"M17.41 7.96l-1.37-1.37c-.4-.4-.92-.59-1.43-.59-.52 0-1.04.2-1.43.59L10.3 9.45l-7.72 7.72c-.78.78-.78 2.05 0 2.83L4 21.41c.39.39.9.59 1.41.59.51 0 1.02-.2 1.41-.59l7.78-7.78 2.81-2.81c.8-.78.8-2.07 0-2.86zM5.41 20L4 18.59l7.72-7.72 1.47 1.35L5.41 20z\"/>\n",
              "  </svg>\n",
              "      </button>\n",
              "      \n",
              "  <style>\n",
              "    .colab-df-container {\n",
              "      display:flex;\n",
              "      flex-wrap:wrap;\n",
              "      gap: 12px;\n",
              "    }\n",
              "\n",
              "    .colab-df-convert {\n",
              "      background-color: #E8F0FE;\n",
              "      border: none;\n",
              "      border-radius: 50%;\n",
              "      cursor: pointer;\n",
              "      display: none;\n",
              "      fill: #1967D2;\n",
              "      height: 32px;\n",
              "      padding: 0 0 0 0;\n",
              "      width: 32px;\n",
              "    }\n",
              "\n",
              "    .colab-df-convert:hover {\n",
              "      background-color: #E2EBFA;\n",
              "      box-shadow: 0px 1px 2px rgba(60, 64, 67, 0.3), 0px 1px 3px 1px rgba(60, 64, 67, 0.15);\n",
              "      fill: #174EA6;\n",
              "    }\n",
              "\n",
              "    [theme=dark] .colab-df-convert {\n",
              "      background-color: #3B4455;\n",
              "      fill: #D2E3FC;\n",
              "    }\n",
              "\n",
              "    [theme=dark] .colab-df-convert:hover {\n",
              "      background-color: #434B5C;\n",
              "      box-shadow: 0px 1px 3px 1px rgba(0, 0, 0, 0.15);\n",
              "      filter: drop-shadow(0px 1px 2px rgba(0, 0, 0, 0.3));\n",
              "      fill: #FFFFFF;\n",
              "    }\n",
              "  </style>\n",
              "\n",
              "      <script>\n",
              "        const buttonEl =\n",
              "          document.querySelector('#df-c10deda1-f1db-4d4c-9287-9ae200f719d9 button.colab-df-convert');\n",
              "        buttonEl.style.display =\n",
              "          google.colab.kernel.accessAllowed ? 'block' : 'none';\n",
              "\n",
              "        async function convertToInteractive(key) {\n",
              "          const element = document.querySelector('#df-c10deda1-f1db-4d4c-9287-9ae200f719d9');\n",
              "          const dataTable =\n",
              "            await google.colab.kernel.invokeFunction('convertToInteractive',\n",
              "                                                     [key], {});\n",
              "          if (!dataTable) return;\n",
              "\n",
              "          const docLinkHtml = 'Like what you see? Visit the ' +\n",
              "            '<a target=\"_blank\" href=https://colab.research.google.com/notebooks/data_table.ipynb>data table notebook</a>'\n",
              "            + ' to learn more about interactive tables.';\n",
              "          element.innerHTML = '';\n",
              "          dataTable['output_type'] = 'display_data';\n",
              "          await google.colab.output.renderOutput(dataTable, element);\n",
              "          const docLink = document.createElement('div');\n",
              "          docLink.innerHTML = docLinkHtml;\n",
              "          element.appendChild(docLink);\n",
              "        }\n",
              "      </script>\n",
              "    </div>\n",
              "  </div>\n",
              "  "
            ]
          },
          "metadata": {},
          "execution_count": 3
        }
      ]
    },
    {
      "cell_type": "markdown",
      "source": [
        "# Устранение пропусков в данных"
      ],
      "metadata": {
        "id": "j0g8xqmYhhbt"
      }
    },
    {
      "cell_type": "code",
      "source": [
        "print(data.info())\n",
        "data.describe(include = ['int', 'float'])"
      ],
      "metadata": {
        "colab": {
          "base_uri": "https://localhost:8080/",
          "height": 821
        },
        "id": "-DgNretlhmid",
        "outputId": "adcbea16-3b37-401c-b78d-e6226785a73c"
      },
      "execution_count": 4,
      "outputs": [
        {
          "output_type": "stream",
          "name": "stdout",
          "text": [
            "<class 'pandas.core.frame.DataFrame'>\n",
            "RangeIndex: 861 entries, 0 to 860\n",
            "Data columns (total 22 columns):\n",
            " #   Column                   Non-Null Count  Dtype  \n",
            "---  ------                   --------------  -----  \n",
            " 0   Model                    861 non-null    object \n",
            " 1   Company                  861 non-null    object \n",
            " 2   Engine Type              834 non-null    object \n",
            " 3   HP or lbs thr ea engine  834 non-null    object \n",
            " 4   Max speed Knots          791 non-null    object \n",
            " 5   Rcmnd cruise Knots       811 non-null    object \n",
            " 6   Stall Knots dirty        735 non-null    object \n",
            " 7   Fuel gal/lbs             807 non-null    float64\n",
            " 8   All eng service ceiling  780 non-null    float64\n",
            " 9   Eng out service ceiling  332 non-null    object \n",
            " 10  All eng rate of climb    752 non-null    object \n",
            " 11  Eng out rate of climb    358 non-null    object \n",
            " 12  Takeoff over 50ft        712 non-null    float64\n",
            " 13  Takeoff ground run       691 non-null    float64\n",
            " 14  Landing over 50ft        712 non-null    float64\n",
            " 15  Landing ground roll      660 non-null    float64\n",
            " 16  Gross weight lbs         830 non-null    object \n",
            " 17  Empty weight lbs         834 non-null    object \n",
            " 18  Length ft/in             822 non-null    object \n",
            " 19  Height ft/in             819 non-null    object \n",
            " 20  Wing span ft/in          832 non-null    object \n",
            " 21  Range N.M.               758 non-null    object \n",
            "dtypes: float64(6), object(16)\n",
            "memory usage: 148.1+ KB\n",
            "None\n"
          ]
        },
        {
          "output_type": "execute_result",
          "data": {
            "text/plain": [
              "       Fuel gal/lbs  All eng service ceiling  Takeoff over 50ft  \\\n",
              "count    807.000000               780.000000         712.000000   \n",
              "mean    2511.824040             25241.461538        1982.808989   \n",
              "std     7005.146487             11357.745561        1141.400284   \n",
              "min        9.000000               850.000000         350.000000   \n",
              "25%       50.000000             16287.500000        1273.750000   \n",
              "50%       94.000000             21200.000000        1650.000000   \n",
              "75%      384.000000             30800.000000        2200.000000   \n",
              "max    48217.000000             51000.000000        6400.000000   \n",
              "\n",
              "       Takeoff ground run  Landing over 50ft  Landing ground roll  \n",
              "count          691.000000         712.000000           660.000000  \n",
              "mean          1468.267728        1680.217697           991.928788  \n",
              "std           1956.443130         709.091377           680.911181  \n",
              "min            125.000000         300.000000           200.000000  \n",
              "25%            800.000000        1211.250000           590.000000  \n",
              "50%           1005.000000        1500.000000           737.000000  \n",
              "75%           1451.500000        2076.000000          1140.000000  \n",
              "max          42222.000000        4850.000000          4702.000000  "
            ],
            "text/html": [
              "\n",
              "  <div id=\"df-221d6d34-e880-4bd3-98bc-692ff5aeb510\">\n",
              "    <div class=\"colab-df-container\">\n",
              "      <div>\n",
              "<style scoped>\n",
              "    .dataframe tbody tr th:only-of-type {\n",
              "        vertical-align: middle;\n",
              "    }\n",
              "\n",
              "    .dataframe tbody tr th {\n",
              "        vertical-align: top;\n",
              "    }\n",
              "\n",
              "    .dataframe thead th {\n",
              "        text-align: right;\n",
              "    }\n",
              "</style>\n",
              "<table border=\"1\" class=\"dataframe\">\n",
              "  <thead>\n",
              "    <tr style=\"text-align: right;\">\n",
              "      <th></th>\n",
              "      <th>Fuel gal/lbs</th>\n",
              "      <th>All eng service ceiling</th>\n",
              "      <th>Takeoff over 50ft</th>\n",
              "      <th>Takeoff ground run</th>\n",
              "      <th>Landing over 50ft</th>\n",
              "      <th>Landing ground roll</th>\n",
              "    </tr>\n",
              "  </thead>\n",
              "  <tbody>\n",
              "    <tr>\n",
              "      <th>count</th>\n",
              "      <td>807.000000</td>\n",
              "      <td>780.000000</td>\n",
              "      <td>712.000000</td>\n",
              "      <td>691.000000</td>\n",
              "      <td>712.000000</td>\n",
              "      <td>660.000000</td>\n",
              "    </tr>\n",
              "    <tr>\n",
              "      <th>mean</th>\n",
              "      <td>2511.824040</td>\n",
              "      <td>25241.461538</td>\n",
              "      <td>1982.808989</td>\n",
              "      <td>1468.267728</td>\n",
              "      <td>1680.217697</td>\n",
              "      <td>991.928788</td>\n",
              "    </tr>\n",
              "    <tr>\n",
              "      <th>std</th>\n",
              "      <td>7005.146487</td>\n",
              "      <td>11357.745561</td>\n",
              "      <td>1141.400284</td>\n",
              "      <td>1956.443130</td>\n",
              "      <td>709.091377</td>\n",
              "      <td>680.911181</td>\n",
              "    </tr>\n",
              "    <tr>\n",
              "      <th>min</th>\n",
              "      <td>9.000000</td>\n",
              "      <td>850.000000</td>\n",
              "      <td>350.000000</td>\n",
              "      <td>125.000000</td>\n",
              "      <td>300.000000</td>\n",
              "      <td>200.000000</td>\n",
              "    </tr>\n",
              "    <tr>\n",
              "      <th>25%</th>\n",
              "      <td>50.000000</td>\n",
              "      <td>16287.500000</td>\n",
              "      <td>1273.750000</td>\n",
              "      <td>800.000000</td>\n",
              "      <td>1211.250000</td>\n",
              "      <td>590.000000</td>\n",
              "    </tr>\n",
              "    <tr>\n",
              "      <th>50%</th>\n",
              "      <td>94.000000</td>\n",
              "      <td>21200.000000</td>\n",
              "      <td>1650.000000</td>\n",
              "      <td>1005.000000</td>\n",
              "      <td>1500.000000</td>\n",
              "      <td>737.000000</td>\n",
              "    </tr>\n",
              "    <tr>\n",
              "      <th>75%</th>\n",
              "      <td>384.000000</td>\n",
              "      <td>30800.000000</td>\n",
              "      <td>2200.000000</td>\n",
              "      <td>1451.500000</td>\n",
              "      <td>2076.000000</td>\n",
              "      <td>1140.000000</td>\n",
              "    </tr>\n",
              "    <tr>\n",
              "      <th>max</th>\n",
              "      <td>48217.000000</td>\n",
              "      <td>51000.000000</td>\n",
              "      <td>6400.000000</td>\n",
              "      <td>42222.000000</td>\n",
              "      <td>4850.000000</td>\n",
              "      <td>4702.000000</td>\n",
              "    </tr>\n",
              "  </tbody>\n",
              "</table>\n",
              "</div>\n",
              "      <button class=\"colab-df-convert\" onclick=\"convertToInteractive('df-221d6d34-e880-4bd3-98bc-692ff5aeb510')\"\n",
              "              title=\"Convert this dataframe to an interactive table.\"\n",
              "              style=\"display:none;\">\n",
              "        \n",
              "  <svg xmlns=\"http://www.w3.org/2000/svg\" height=\"24px\"viewBox=\"0 0 24 24\"\n",
              "       width=\"24px\">\n",
              "    <path d=\"M0 0h24v24H0V0z\" fill=\"none\"/>\n",
              "    <path d=\"M18.56 5.44l.94 2.06.94-2.06 2.06-.94-2.06-.94-.94-2.06-.94 2.06-2.06.94zm-11 1L8.5 8.5l.94-2.06 2.06-.94-2.06-.94L8.5 2.5l-.94 2.06-2.06.94zm10 10l.94 2.06.94-2.06 2.06-.94-2.06-.94-.94-2.06-.94 2.06-2.06.94z\"/><path d=\"M17.41 7.96l-1.37-1.37c-.4-.4-.92-.59-1.43-.59-.52 0-1.04.2-1.43.59L10.3 9.45l-7.72 7.72c-.78.78-.78 2.05 0 2.83L4 21.41c.39.39.9.59 1.41.59.51 0 1.02-.2 1.41-.59l7.78-7.78 2.81-2.81c.8-.78.8-2.07 0-2.86zM5.41 20L4 18.59l7.72-7.72 1.47 1.35L5.41 20z\"/>\n",
              "  </svg>\n",
              "      </button>\n",
              "      \n",
              "  <style>\n",
              "    .colab-df-container {\n",
              "      display:flex;\n",
              "      flex-wrap:wrap;\n",
              "      gap: 12px;\n",
              "    }\n",
              "\n",
              "    .colab-df-convert {\n",
              "      background-color: #E8F0FE;\n",
              "      border: none;\n",
              "      border-radius: 50%;\n",
              "      cursor: pointer;\n",
              "      display: none;\n",
              "      fill: #1967D2;\n",
              "      height: 32px;\n",
              "      padding: 0 0 0 0;\n",
              "      width: 32px;\n",
              "    }\n",
              "\n",
              "    .colab-df-convert:hover {\n",
              "      background-color: #E2EBFA;\n",
              "      box-shadow: 0px 1px 2px rgba(60, 64, 67, 0.3), 0px 1px 3px 1px rgba(60, 64, 67, 0.15);\n",
              "      fill: #174EA6;\n",
              "    }\n",
              "\n",
              "    [theme=dark] .colab-df-convert {\n",
              "      background-color: #3B4455;\n",
              "      fill: #D2E3FC;\n",
              "    }\n",
              "\n",
              "    [theme=dark] .colab-df-convert:hover {\n",
              "      background-color: #434B5C;\n",
              "      box-shadow: 0px 1px 3px 1px rgba(0, 0, 0, 0.15);\n",
              "      filter: drop-shadow(0px 1px 2px rgba(0, 0, 0, 0.3));\n",
              "      fill: #FFFFFF;\n",
              "    }\n",
              "  </style>\n",
              "\n",
              "      <script>\n",
              "        const buttonEl =\n",
              "          document.querySelector('#df-221d6d34-e880-4bd3-98bc-692ff5aeb510 button.colab-df-convert');\n",
              "        buttonEl.style.display =\n",
              "          google.colab.kernel.accessAllowed ? 'block' : 'none';\n",
              "\n",
              "        async function convertToInteractive(key) {\n",
              "          const element = document.querySelector('#df-221d6d34-e880-4bd3-98bc-692ff5aeb510');\n",
              "          const dataTable =\n",
              "            await google.colab.kernel.invokeFunction('convertToInteractive',\n",
              "                                                     [key], {});\n",
              "          if (!dataTable) return;\n",
              "\n",
              "          const docLinkHtml = 'Like what you see? Visit the ' +\n",
              "            '<a target=\"_blank\" href=https://colab.research.google.com/notebooks/data_table.ipynb>data table notebook</a>'\n",
              "            + ' to learn more about interactive tables.';\n",
              "          element.innerHTML = '';\n",
              "          dataTable['output_type'] = 'display_data';\n",
              "          await google.colab.output.renderOutput(dataTable, element);\n",
              "          const docLink = document.createElement('div');\n",
              "          docLink.innerHTML = docLinkHtml;\n",
              "          element.appendChild(docLink);\n",
              "        }\n",
              "      </script>\n",
              "    </div>\n",
              "  </div>\n",
              "  "
            ]
          },
          "metadata": {},
          "execution_count": 4
        }
      ]
    },
    {
      "cell_type": "code",
      "source": [
        "print('Процент пропусков в каждой колонке:\\n\\n', data.isna().sum()/861*100, sep='')"
      ],
      "metadata": {
        "colab": {
          "base_uri": "https://localhost:8080/"
        },
        "id": "gWnC967JTaV9",
        "outputId": "d6dd0c3c-4df6-4f67-aadd-b52988fd1d95"
      },
      "execution_count": 7,
      "outputs": [
        {
          "output_type": "stream",
          "name": "stdout",
          "text": [
            "Процент пропусков в каждой колонке:\n",
            "\n",
            "Model                       0.000000\n",
            "Company                     0.000000\n",
            "Engine Type                 3.135889\n",
            "HP or lbs thr ea engine     3.135889\n",
            "Max speed Knots             8.130081\n",
            "Rcmnd cruise Knots          5.807201\n",
            "Stall Knots dirty          14.634146\n",
            "Fuel gal/lbs                6.271777\n",
            "All eng service ceiling     9.407666\n",
            "Eng out service ceiling    61.440186\n",
            "All eng rate of climb      12.659698\n",
            "Eng out rate of climb      58.420441\n",
            "Takeoff over 50ft          17.305459\n",
            "Takeoff ground run         19.744483\n",
            "Landing over 50ft          17.305459\n",
            "Landing ground roll        23.344948\n",
            "Gross weight lbs            3.600465\n",
            "Empty weight lbs            3.135889\n",
            "Length ft/in                4.529617\n",
            "Height ft/in                4.878049\n",
            "Wing span ft/in             3.368177\n",
            "Range N.M.                 11.962834\n",
            "dtype: float64\n"
          ]
        }
      ]
    },
    {
      "cell_type": "markdown",
      "source": [
        "## Удаление пропущенных значений"
      ],
      "metadata": {
        "id": "u_1BsPWNUC5Y"
      }
    },
    {
      "cell_type": "code",
      "source": [
        "data.isna().sum()"
      ],
      "metadata": {
        "colab": {
          "base_uri": "https://localhost:8080/"
        },
        "id": "OOhBVp7FUpjy",
        "outputId": "0bfb182f-ab65-4440-c2fa-9c0942d2aa1f"
      },
      "execution_count": 8,
      "outputs": [
        {
          "output_type": "execute_result",
          "data": {
            "text/plain": [
              "Model                        0\n",
              "Company                      0\n",
              "Engine Type                 27\n",
              "HP or lbs thr ea engine     27\n",
              "Max speed Knots             70\n",
              "Rcmnd cruise Knots          50\n",
              "Stall Knots dirty          126\n",
              "Fuel gal/lbs                54\n",
              "All eng service ceiling     81\n",
              "Eng out service ceiling    529\n",
              "All eng rate of climb      109\n",
              "Eng out rate of climb      503\n",
              "Takeoff over 50ft          149\n",
              "Takeoff ground run         170\n",
              "Landing over 50ft          149\n",
              "Landing ground roll        201\n",
              "Gross weight lbs            31\n",
              "Empty weight lbs            27\n",
              "Length ft/in                39\n",
              "Height ft/in                42\n",
              "Wing span ft/in             29\n",
              "Range N.M.                 103\n",
              "dtype: int64"
            ]
          },
          "metadata": {},
          "execution_count": 8
        }
      ]
    },
    {
      "cell_type": "markdown",
      "source": [
        "Уберем две колонки, в которых наблюдается избыточное число пропусков:"
      ],
      "metadata": {
        "id": "QVl2U1uDYdxO"
      }
    },
    {
      "cell_type": "code",
      "source": [
        "data_cleaned = data.drop(axis = 1, labels = ['Eng out service ceiling', 'Eng out rate of climb'])"
      ],
      "metadata": {
        "id": "wkCRzNKRYcSs"
      },
      "execution_count": 11,
      "outputs": []
    },
    {
      "cell_type": "code",
      "source": [
        "drop_data = {}\n",
        "for i in range (0, 21):\n",
        "  drop_data[i] = data.dropna(axis = 0, thresh = i).shape[0]\n",
        "print(drop_data)"
      ],
      "metadata": {
        "colab": {
          "base_uri": "https://localhost:8080/"
        },
        "id": "z7kzL1HRaaYq",
        "outputId": "5e38cd15-3c45-4eeb-f3a8-91102f44043e"
      },
      "execution_count": 12,
      "outputs": [
        {
          "output_type": "stream",
          "name": "stdout",
          "text": [
            "{0: 861, 1: 861, 2: 861, 3: 860, 4: 860, 5: 860, 6: 860, 7: 859, 8: 859, 9: 834, 10: 832, 11: 832, 12: 819, 13: 807, 14: 797, 15: 784, 16: 775, 17: 753, 18: 724, 19: 636, 20: 562}\n"
          ]
        }
      ]
    },
    {
      "cell_type": "code",
      "source": [
        "plt.figure(figsize = (10,7))\n",
        "plt.plot(range(len(drop_data)), list(drop_data.values()))\n",
        "plt.ylabel('Кол-во оставшихся строк')\n",
        "plt.xlabel('Кол-во колонок, которые должны быть заполнены в строке')\n",
        "plt.title('Изменение кол-ва оставшихся строк в зависимости от порога удаления')\n",
        "plt.grid()"
      ],
      "metadata": {
        "colab": {
          "base_uri": "https://localhost:8080/",
          "height": 458
        },
        "id": "JtU3BE-EbCWC",
        "outputId": "91cf686d-4b7c-4a93-edb3-b35e6e2b00f2"
      },
      "execution_count": 13,
      "outputs": [
        {
          "output_type": "display_data",
          "data": {
            "text/plain": [
              "<Figure size 720x504 with 1 Axes>"
            ],
            "image/png": "[encoded data removed]"
          },
          "metadata": {
            "needs_background": "light"
          }
        }
      ]
    },
    {
      "cell_type": "code",
      "source": [
        "# Колонки с пропусками\n",
        "cols_with_na = [c for c in data_cleaned.columns if data_cleaned[c].isnull().sum() > 0]\n",
        "cols_with_na"
      ],
      "metadata": {
        "colab": {
          "base_uri": "https://localhost:8080/"
        },
        "id": "LJrqVBkOdrGj",
        "outputId": "216c6e44-c9aa-4c3f-acba-f945c5c01dd4"
      },
      "execution_count": 14,
      "outputs": [
        {
          "output_type": "execute_result",
          "data": {
            "text/plain": [
              "['Engine Type',\n",
              " 'HP or lbs thr ea engine',\n",
              " 'Max speed Knots',\n",
              " 'Rcmnd cruise Knots',\n",
              " 'Stall Knots dirty',\n",
              " 'Fuel gal/lbs',\n",
              " 'All eng service ceiling',\n",
              " 'All eng rate of climb',\n",
              " 'Takeoff over 50ft',\n",
              " 'Takeoff ground run',\n",
              " 'Landing over 50ft',\n",
              " 'Landing ground roll',\n",
              " 'Gross weight lbs',\n",
              " 'Empty weight lbs',\n",
              " 'Length ft/in',\n",
              " 'Height ft/in',\n",
              " 'Wing span ft/in',\n",
              " 'Range N.M.']"
            ]
          },
          "metadata": {},
          "execution_count": 14
        }
      ]
    },
    {
      "cell_type": "code",
      "source": [
        "for col in cols_with_na:\n",
        "   print(data_cleaned[col].dtype)"
      ],
      "metadata": {
        "colab": {
          "base_uri": "https://localhost:8080/"
        },
        "id": "daLMt-k7fuZm",
        "outputId": "1a08c4ba-8bc5-4778-8c55-bf2e6c7129a9"
      },
      "execution_count": 15,
      "outputs": [
        {
          "output_type": "stream",
          "name": "stdout",
          "text": [
            "object\n",
            "object\n",
            "object\n",
            "object\n",
            "object\n",
            "float64\n",
            "float64\n",
            "object\n",
            "float64\n",
            "float64\n",
            "float64\n",
            "float64\n",
            "object\n",
            "object\n",
            "object\n",
            "object\n",
            "object\n",
            "object\n"
          ]
        }
      ]
    },
    {
      "cell_type": "code",
      "source": [
        "cols_to_impute = []\n",
        "cols_to_delete = []\n",
        "for col in cols_with_na:\n",
        "  try:\n",
        "    data_cleaned[col] = data_cleaned[col].astype(float)\n",
        "    print(f'{col} : Success')\n",
        "    cols_to_impute.append(col)\n",
        "  except Exception as e:\n",
        "    print(f'{col} : {repr(e)}')\n",
        "    cols_to_delete.append(col)\n",
        "    continue"
      ],
      "metadata": {
        "colab": {
          "base_uri": "https://localhost:8080/"
        },
        "id": "DyGBRFw7ddCA",
        "outputId": "2bdcbe63-9452-46c6-b54a-7c71c8c795a2"
      },
      "execution_count": 16,
      "outputs": [
        {
          "output_type": "stream",
          "name": "stdout",
          "text": [
            "Engine Type : ValueError(\"could not convert string to float: 'Piston'\")\n",
            "HP or lbs thr ea engine : ValueError(\"could not convert string to float: '940wet'\")\n",
            "Max speed Knots : ValueError(\"could not convert string to float: '.80 Mach'\")\n",
            "Rcmnd cruise Knots : ValueError(\"could not convert string to float: '.78 Mach'\")\n",
            "Stall Knots dirty : ValueError(\"could not convert string to float: '44kcas'\")\n",
            "Fuel gal/lbs : Success\n",
            "All eng service ceiling : Success\n",
            "All eng rate of climb : ValueError(\"could not convert string to float: '1,030 w/3bld'\")\n",
            "Takeoff over 50ft : Success\n",
            "Takeoff ground run : Success\n",
            "Landing over 50ft : Success\n",
            "Landing ground roll : Success\n",
            "Gross weight lbs : ValueError(\"could not convert string to float: 'Orig'\")\n",
            "Empty weight lbs : ValueError(\"could not convert string to float: 'NC'\")\n",
            "Length ft/in : ValueError(\"could not convert string to float: '25/3'\")\n",
            "Height ft/in : ValueError(\"could not convert string to float: '10/3'\")\n",
            "Wing span ft/in : ValueError(\"could not convert string to float: '37/5'\")\n",
            "Range N.M. : ValueError(\"could not convert string to float: '1,000+'\")\n"
          ]
        }
      ]
    },
    {
      "cell_type": "code",
      "source": [
        "data_cleaned_deleted = data_cleaned.drop(axis = 1, labels = cols_to_delete)"
      ],
      "metadata": {
        "id": "B4mJ4f1KhcsO"
      },
      "execution_count": 17,
      "outputs": []
    },
    {
      "cell_type": "code",
      "source": [
        "cols_to_leave_for_impute = []\n",
        "cols_to_delete_from_impute = []\n",
        "for col in data_cleaned.columns:\n",
        "  try:\n",
        "    data_cleaned[col] = data_cleaned[col].astype(float)\n",
        "    print(f'{col} : Success')\n",
        "    cols_to_leave_for_impute.append(col)\n",
        "  except Exception as e:\n",
        "    print(f'{col} : {repr(e)}')\n",
        "    cols_to_delete_from_impute.append(col)\n",
        "    continue"
      ],
      "metadata": {
        "colab": {
          "base_uri": "https://localhost:8080/"
        },
        "id": "39WaIXHBi6e4",
        "outputId": "1b9a0647-49de-455a-96f9-0cec3d6d9073"
      },
      "execution_count": 18,
      "outputs": [
        {
          "output_type": "stream",
          "name": "stdout",
          "text": [
            "Model : ValueError(\"could not convert string to float: '15 AC Sedan'\")\n",
            "Company : ValueError(\"could not convert string to float: 'Aeronca'\")\n",
            "Engine Type : ValueError(\"could not convert string to float: 'Piston'\")\n",
            "HP or lbs thr ea engine : ValueError(\"could not convert string to float: '940wet'\")\n",
            "Max speed Knots : ValueError(\"could not convert string to float: '.80 Mach'\")\n",
            "Rcmnd cruise Knots : ValueError(\"could not convert string to float: '.78 Mach'\")\n",
            "Stall Knots dirty : ValueError(\"could not convert string to float: '44kcas'\")\n",
            "Fuel gal/lbs : Success\n",
            "All eng service ceiling : Success\n",
            "All eng rate of climb : ValueError(\"could not convert string to float: '1,030 w/3bld'\")\n",
            "Takeoff over 50ft : Success\n",
            "Takeoff ground run : Success\n",
            "Landing over 50ft : Success\n",
            "Landing ground roll : Success\n",
            "Gross weight lbs : ValueError(\"could not convert string to float: 'Orig'\")\n",
            "Empty weight lbs : ValueError(\"could not convert string to float: 'NC'\")\n",
            "Length ft/in : ValueError(\"could not convert string to float: '25/3'\")\n",
            "Height ft/in : ValueError(\"could not convert string to float: '10/3'\")\n",
            "Wing span ft/in : ValueError(\"could not convert string to float: '37/5'\")\n",
            "Range N.M. : ValueError(\"could not convert string to float: '1,000+'\")\n"
          ]
        }
      ]
    },
    {
      "cell_type": "code",
      "source": [
        "data_cleaned['row_num'] = range(0, len(data_cleaned))"
      ],
      "metadata": {
        "id": "5WXKlj_dsKOg"
      },
      "execution_count": 19,
      "outputs": []
    },
    {
      "cell_type": "code",
      "source": [
        "cols_to_leave_for_impute.append('row_num')"
      ],
      "metadata": {
        "id": "vGs70hqdstUd"
      },
      "execution_count": 20,
      "outputs": []
    },
    {
      "cell_type": "code",
      "source": [
        "data_knn_impute = data_cleaned[cols_to_leave_for_impute].copy()\n",
        "data_knn_impute.shape"
      ],
      "metadata": {
        "colab": {
          "base_uri": "https://localhost:8080/"
        },
        "id": "eVd0fG02hxPD",
        "outputId": "b4b27be4-277b-4831-8d85-fb1a21da6b9a"
      },
      "execution_count": 22,
      "outputs": [
        {
          "output_type": "execute_result",
          "data": {
            "text/plain": [
              "(861, 7)"
            ]
          },
          "metadata": {},
          "execution_count": 22
        }
      ]
    },
    {
      "cell_type": "code",
      "source": [
        "knnimputer = KNNImputer(\n",
        "    n_neighbors=5, \n",
        "    weights='distance', \n",
        "    metric='nan_euclidean', \n",
        "    add_indicator=False, \n",
        ")\n",
        "knnimpute_data_imputed_temp = knnimputer.fit_transform(data_knn_impute)\n",
        "knnimpute_data_imputed = pd.DataFrame(knnimpute_data_imputed_temp, columns=data_knn_impute.columns)\n",
        "knnimpute_data_imputed.head()"
      ],
      "metadata": {
        "colab": {
          "base_uri": "https://localhost:8080/",
          "height": 206
        },
        "id": "n2iSJ4hhihGQ",
        "outputId": "5b743af1-b827-4e99-cc67-a765483ec3e3"
      },
      "execution_count": 23,
      "outputs": [
        {
          "output_type": "execute_result",
          "data": {
            "text/plain": [
              "   Fuel gal/lbs  All eng service ceiling  Takeoff over 50ft  \\\n",
              "0          36.0                  13000.0              900.0   \n",
              "1          15.0                  12300.0              720.0   \n",
              "2          19.0                  16000.0              475.0   \n",
              "3          19.0                  13000.0              500.0   \n",
              "4          14.0                  12500.0              632.0   \n",
              "\n",
              "   Takeoff ground run  Landing over 50ft  Landing ground roll  row_num  \n",
              "0         1243.897773             1300.0           572.847875      0.0  \n",
              "1         1128.136700              800.0           540.274070      1.0  \n",
              "2         1241.815776              850.0           635.054599      2.0  \n",
              "3         1241.752771              850.0           673.659972      3.0  \n",
              "4         1241.393800              885.0           566.612476      4.0  "
            ],
            "text/html": [
              "\n",
              "  <div id=\"df-d4f45fe3-5a3f-4c30-9a96-8542d047d89c\">\n",
              "    <div class=\"colab-df-container\">\n",
              "      <div>\n",
              "<style scoped>\n",
              "    .dataframe tbody tr th:only-of-type {\n",
              "        vertical-align: middle;\n",
              "    }\n",
              "\n",
              "    .dataframe tbody tr th {\n",
              "        vertical-align: top;\n",
              "    }\n",
              "\n",
              "    .dataframe thead th {\n",
              "        text-align: right;\n",
              "    }\n",
              "</style>\n",
              "<table border=\"1\" class=\"dataframe\">\n",
              "  <thead>\n",
              "    <tr style=\"text-align: right;\">\n",
              "      <th></th>\n",
              "      <th>Fuel gal/lbs</th>\n",
              "      <th>All eng service ceiling</th>\n",
              "      <th>Takeoff over 50ft</th>\n",
              "      <th>Takeoff ground run</th>\n",
              "      <th>Landing over 50ft</th>\n",
              "      <th>Landing ground roll</th>\n",
              "      <th>row_num</th>\n",
              "    </tr>\n",
              "  </thead>\n",
              "  <tbody>\n",
              "    <tr>\n",
              "      <th>0</th>\n",
              "      <td>36.0</td>\n",
              "      <td>13000.0</td>\n",
              "      <td>900.0</td>\n",
              "      <td>1243.897773</td>\n",
              "      <td>1300.0</td>\n",
              "      <td>572.847875</td>\n",
              "      <td>0.0</td>\n",
              "    </tr>\n",
              "    <tr>\n",
              "      <th>1</th>\n",
              "      <td>15.0</td>\n",
              "      <td>12300.0</td>\n",
              "      <td>720.0</td>\n",
              "      <td>1128.136700</td>\n",
              "      <td>800.0</td>\n",
              "      <td>540.274070</td>\n",
              "      <td>1.0</td>\n",
              "    </tr>\n",
              "    <tr>\n",
              "      <th>2</th>\n",
              "      <td>19.0</td>\n",
              "      <td>16000.0</td>\n",
              "      <td>475.0</td>\n",
              "      <td>1241.815776</td>\n",
              "      <td>850.0</td>\n",
              "      <td>635.054599</td>\n",
              "      <td>2.0</td>\n",
              "    </tr>\n",
              "    <tr>\n",
              "      <th>3</th>\n",
              "      <td>19.0</td>\n",
              "      <td>13000.0</td>\n",
              "      <td>500.0</td>\n",
              "      <td>1241.752771</td>\n",
              "      <td>850.0</td>\n",
              "      <td>673.659972</td>\n",
              "      <td>3.0</td>\n",
              "    </tr>\n",
              "    <tr>\n",
              "      <th>4</th>\n",
              "      <td>14.0</td>\n",
              "      <td>12500.0</td>\n",
              "      <td>632.0</td>\n",
              "      <td>1241.393800</td>\n",
              "      <td>885.0</td>\n",
              "      <td>566.612476</td>\n",
              "      <td>4.0</td>\n",
              "    </tr>\n",
              "  </tbody>\n",
              "</table>\n",
              "</div>\n",
              "      <button class=\"colab-df-convert\" onclick=\"convertToInteractive('df-d4f45fe3-5a3f-4c30-9a96-8542d047d89c')\"\n",
              "              title=\"Convert this dataframe to an interactive table.\"\n",
              "              style=\"display:none;\">\n",
              "        \n",
              "  <svg xmlns=\"http://www.w3.org/2000/svg\" height=\"24px\"viewBox=\"0 0 24 24\"\n",
              "       width=\"24px\">\n",
              "    <path d=\"M0 0h24v24H0V0z\" fill=\"none\"/>\n",
              "    <path d=\"M18.56 5.44l.94 2.06.94-2.06 2.06-.94-2.06-.94-.94-2.06-.94 2.06-2.06.94zm-11 1L8.5 8.5l.94-2.06 2.06-.94-2.06-.94L8.5 2.5l-.94 2.06-2.06.94zm10 10l.94 2.06.94-2.06 2.06-.94-2.06-.94-.94-2.06-.94 2.06-2.06.94z\"/><path d=\"M17.41 7.96l-1.37-1.37c-.4-.4-.92-.59-1.43-.59-.52 0-1.04.2-1.43.59L10.3 9.45l-7.72 7.72c-.78.78-.78 2.05 0 2.83L4 21.41c.39.39.9.59 1.41.59.51 0 1.02-.2 1.41-.59l7.78-7.78 2.81-2.81c.8-.78.8-2.07 0-2.86zM5.41 20L4 18.59l7.72-7.72 1.47 1.35L5.41 20z\"/>\n",
              "  </svg>\n",
              "      </button>\n",
              "      \n",
              "  <style>\n",
              "    .colab-df-container {\n",
              "      display:flex;\n",
              "      flex-wrap:wrap;\n",
              "      gap: 12px;\n",
              "    }\n",
              "\n",
              "    .colab-df-convert {\n",
              "      background-color: #E8F0FE;\n",
              "      border: none;\n",
              "      border-radius: 50%;\n",
              "      cursor: pointer;\n",
              "      display: none;\n",
              "      fill: #1967D2;\n",
              "      height: 32px;\n",
              "      padding: 0 0 0 0;\n",
              "      width: 32px;\n",
              "    }\n",
              "\n",
              "    .colab-df-convert:hover {\n",
              "      background-color: #E2EBFA;\n",
              "      box-shadow: 0px 1px 2px rgba(60, 64, 67, 0.3), 0px 1px 3px 1px rgba(60, 64, 67, 0.15);\n",
              "      fill: #174EA6;\n",
              "    }\n",
              "\n",
              "    [theme=dark] .colab-df-convert {\n",
              "      background-color: #3B4455;\n",
              "      fill: #D2E3FC;\n",
              "    }\n",
              "\n",
              "    [theme=dark] .colab-df-convert:hover {\n",
              "      background-color: #434B5C;\n",
              "      box-shadow: 0px 1px 3px 1px rgba(0, 0, 0, 0.15);\n",
              "      filter: drop-shadow(0px 1px 2px rgba(0, 0, 0, 0.3));\n",
              "      fill: #FFFFFF;\n",
              "    }\n",
              "  </style>\n",
              "\n",
              "      <script>\n",
              "        const buttonEl =\n",
              "          document.querySelector('#df-d4f45fe3-5a3f-4c30-9a96-8542d047d89c button.colab-df-convert');\n",
              "        buttonEl.style.display =\n",
              "          google.colab.kernel.accessAllowed ? 'block' : 'none';\n",
              "\n",
              "        async function convertToInteractive(key) {\n",
              "          const element = document.querySelector('#df-d4f45fe3-5a3f-4c30-9a96-8542d047d89c');\n",
              "          const dataTable =\n",
              "            await google.colab.kernel.invokeFunction('convertToInteractive',\n",
              "                                                     [key], {});\n",
              "          if (!dataTable) return;\n",
              "\n",
              "          const docLinkHtml = 'Like what you see? Visit the ' +\n",
              "            '<a target=\"_blank\" href=https://colab.research.google.com/notebooks/data_table.ipynb>data table notebook</a>'\n",
              "            + ' to learn more about interactive tables.';\n",
              "          element.innerHTML = '';\n",
              "          dataTable['output_type'] = 'display_data';\n",
              "          await google.colab.output.renderOutput(dataTable, element);\n",
              "          const docLink = document.createElement('div');\n",
              "          docLink.innerHTML = docLinkHtml;\n",
              "          element.appendChild(docLink);\n",
              "        }\n",
              "      </script>\n",
              "    </div>\n",
              "  </div>\n",
              "  "
            ]
          },
          "metadata": {},
          "execution_count": 23
        }
      ]
    },
    {
      "cell_type": "code",
      "source": [
        "eng_df = pd.DataFrame({'original': data_cleaned['All eng service ceiling'].values})\n",
        "eng_df['KNN_5'] = knnimpute_data_imputed['All eng service ceiling']"
      ],
      "metadata": {
        "id": "Lz1bzOS6kVB3"
      },
      "execution_count": 24,
      "outputs": []
    },
    {
      "cell_type": "code",
      "source": [
        "sns.kdeplot(data = eng_df)"
      ],
      "metadata": {
        "colab": {
          "base_uri": "https://localhost:8080/",
          "height": 293
        },
        "id": "EVHh-dNYj2yM",
        "outputId": "013ac402-67c1-4ebf-bf62-4b0d148a939c"
      },
      "execution_count": 25,
      "outputs": [
        {
          "output_type": "execute_result",
          "data": {
            "text/plain": [
              "<matplotlib.axes._subplots.AxesSubplot at 0x7f9fa082ef50>"
            ]
          },
          "metadata": {},
          "execution_count": 25
        },
        {
          "output_type": "display_data",
          "data": {
            "text/plain": [
              "<Figure size 432x288 with 1 Axes>"
            ],
            "image/png": "[encoded data removed]"
          },
          "metadata": {
            "needs_background": "light"
          }
        }
      ]
    },
    {
      "cell_type": "code",
      "source": [
        "land_df = pd.DataFrame({'original': data_cleaned['Landing ground roll'].values})\n",
        "land_df['KNN_5'] = knnimpute_data_imputed['Landing ground roll']"
      ],
      "metadata": {
        "id": "Wnm7NMP9kwZv"
      },
      "execution_count": 26,
      "outputs": []
    },
    {
      "cell_type": "code",
      "source": [
        "sns.kdeplot(data = land_df)"
      ],
      "metadata": {
        "colab": {
          "base_uri": "https://localhost:8080/",
          "height": 282
        },
        "id": "q6ISrdjRk2G2",
        "outputId": "a7ba6743-36bd-40bb-e7b4-d15bd772214d"
      },
      "execution_count": 27,
      "outputs": [
        {
          "output_type": "execute_result",
          "data": {
            "text/plain": [
              "<matplotlib.axes._subplots.AxesSubplot at 0x7f9f9ba92b10>"
            ]
          },
          "metadata": {},
          "execution_count": 27
        },
        {
          "output_type": "display_data",
          "data": {
            "text/plain": [
              "<Figure size 432x288 with 1 Axes>"
            ],
            "image/png": "[encoded data removed]"
          },
          "metadata": {
            "needs_background": "light"
          }
        }
      ]
    },
    {
      "cell_type": "code",
      "source": [
        "cols_to_delete_from_impute.append('row_num')"
      ],
      "metadata": {
        "id": "qKLbF7mQvras"
      },
      "execution_count": 28,
      "outputs": []
    },
    {
      "cell_type": "code",
      "source": [
        "data_final = pd.merge(data_cleaned[cols_to_delete_from_impute], knnimpute_data_imputed, on = 'row_num')\n",
        "data_final.shape"
      ],
      "metadata": {
        "colab": {
          "base_uri": "https://localhost:8080/"
        },
        "id": "0lIcJCyRvSHc",
        "outputId": "fdf20857-4ef0-4779-de2b-604fc4185cd8"
      },
      "execution_count": 29,
      "outputs": [
        {
          "output_type": "execute_result",
          "data": {
            "text/plain": [
              "(861, 21)"
            ]
          },
          "metadata": {},
          "execution_count": 29
        }
      ]
    },
    {
      "cell_type": "code",
      "source": [
        "data_final = data_final.dropna(axis = 0, thresh = 21)"
      ],
      "metadata": {
        "id": "ptnmTpMSw8KO"
      },
      "execution_count": 30,
      "outputs": []
    },
    {
      "cell_type": "markdown",
      "source": [
        "> После замены пропусков были удалены оставшиеся строки, где еще остались какие-либо пропуски. В итоге имеем очищенный набор данных, в котором удалось сохранить 615 строк:"
      ],
      "metadata": {
        "id": "EjjLfZnQW1q1"
      }
    },
    {
      "cell_type": "code",
      "source": [
        "data_final.isna().sum()"
      ],
      "metadata": {
        "colab": {
          "base_uri": "https://localhost:8080/"
        },
        "id": "2wYzC62NWkBf",
        "outputId": "60bec9e9-be38-4c15-8b9e-47779869d200"
      },
      "execution_count": 31,
      "outputs": [
        {
          "output_type": "execute_result",
          "data": {
            "text/plain": [
              "Model                      0\n",
              "Company                    0\n",
              "Engine Type                0\n",
              "HP or lbs thr ea engine    0\n",
              "Max speed Knots            0\n",
              "Rcmnd cruise Knots         0\n",
              "Stall Knots dirty          0\n",
              "All eng rate of climb      0\n",
              "Gross weight lbs           0\n",
              "Empty weight lbs           0\n",
              "Length ft/in               0\n",
              "Height ft/in               0\n",
              "Wing span ft/in            0\n",
              "Range N.M.                 0\n",
              "row_num                    0\n",
              "Fuel gal/lbs               0\n",
              "All eng service ceiling    0\n",
              "Takeoff over 50ft          0\n",
              "Takeoff ground run         0\n",
              "Landing over 50ft          0\n",
              "Landing ground roll        0\n",
              "dtype: int64"
            ]
          },
          "metadata": {},
          "execution_count": 31
        }
      ]
    },
    {
      "cell_type": "code",
      "source": [
        "data_final.shape"
      ],
      "metadata": {
        "colab": {
          "base_uri": "https://localhost:8080/"
        },
        "id": "iucGfStuWoa8",
        "outputId": "171bb85b-827d-4677-d522-984793b6a2be"
      },
      "execution_count": 33,
      "outputs": [
        {
          "output_type": "execute_result",
          "data": {
            "text/plain": [
              "(615, 21)"
            ]
          },
          "metadata": {},
          "execution_count": 33
        }
      ]
    },
    {
      "cell_type": "markdown",
      "source": [
        "# Кодирование категориальных признаков"
      ],
      "metadata": {
        "id": "Za0xFN0ihlAi"
      }
    },
    {
      "cell_type": "code",
      "source": [
        "data_final['Range N.M.'].unique()"
      ],
      "metadata": {
        "colab": {
          "base_uri": "https://localhost:8080/"
        },
        "id": "lKxRMVEW9gpb",
        "outputId": "bf2afdd4-7596-44c8-f782-e07510756976"
      },
      "execution_count": null,
      "outputs": [
        {
          "output_type": "execute_result",
          "data": {
            "text/plain": [
              "array(['370', '190', '210', '175', '180', '868', '1020', '1101', '1174',\n",
              "       '1200', '148', '155', '226', '117', '174', '410', '400', '360',\n",
              "       '715', '600', '404', '411', '248', '350', '261', '680', '530',\n",
              "       '428', '503', '348', '275', '696', '257', '545', '563', '1806',\n",
              "       '1720', '1972', '1870', '1080', '1000', '1005', '1235', '1290',\n",
              "       '1120', '1185', '1160', '1270', '902', '656', '716', '746', '755',\n",
              "       '630', '1010', '824', '622', '880', '638', '632', '787', '813',\n",
              "       '670', '726', '733', '722', '1013', '1130', '1104', '1109', '737',\n",
              "       '934', '550', '739', '763', '745', '661', '843', '957', '800',\n",
              "       '720', '697', '510', '536', '580', '543', '535', '495', '492',\n",
              "       '470', '513', '520', '717', '568', '647', '591', '704', '643',\n",
              "       '565', '760', '483', '639', '452', '435', '2289', '1818', '1546',\n",
              "       '1450', '1431', '1525', '1385', '1001', '730', '1100', '2300',\n",
              "       '2600', '2027', '1970', '1960', '1900', '1613', '1300', '1485',\n",
              "       '2193', '1461', '1197', '845', '826', '1099', '1090', '908', '553',\n",
              "       '875', '1180', '833', '1102', '1106', '1258', '928', '735', '740',\n",
              "       '517', '807', '676', '687', '678', '640', '835', '939', '920',\n",
              "       '1139', '922', '866', '810', '732', '539', '700', '583', '612',\n",
              "       '626', '627', '555', '609', '713', '515', '603', '610', '283',\n",
              "       '290', '278', '204', '500', '522', '645', '561', '743', '971',\n",
              "       '930', '817', '450', '443', '804', '506', '490', '417', '589',\n",
              "       '593', '475', '570', '440', '418', '420', '315', '303', '276',\n",
              "       '320', '318', '390', '1275', '870', '665', '620', '575', '569',\n",
              "       '750', '434', '4400', '4200', '3500', '2500', '1630', '1610',\n",
              "       '1614', '1828', '1800', '300', '1129', '526', '422', '1563',\n",
              "       '1827', '2040', '2178', '2025', '4220', '4420', '3767', '3680',\n",
              "       '2795', '2592', '2164', '2904', '2440', '950', '840', '296', '305',\n",
              "       '455', '505', '273', '346', '182', '1137', '485', '345', '525',\n",
              "       '1513', '1510', '1391', '1600', '1250', '1175', '1150', '1852',\n",
              "       '900', '980', '690', '734', '601', '659', '655', '484', '456',\n",
              "       '335', '1043', '340', '430', '2261', '1722', '1515', '1336',\n",
              "       '1444', '861', '883', '1190', '899', '965', '753', '758', '770',\n",
              "       '725', '685', '850', '681', '1188', '785', '710', '616', '1261',\n",
              "       '756', '628', '822', '784', '648', '748', '744', '673', '834',\n",
              "       '650', '408', '695', '507', '703', '480', '457', '384', '660',\n",
              "       '230', '222', '415', '365', '368', '364', '146', '1132', '767',\n",
              "       '688', '642', '1483', '2520', '2480', '1640', '594', '432', '985',\n",
              "       '2080', '1419', '1471', '1780', '1217', '1170', '1296', '956',\n",
              "       '1522', '1413', '913', '887', '693', '1060', '380'], dtype=object)"
            ]
          },
          "metadata": {},
          "execution_count": 257
        }
      ]
    },
    {
      "cell_type": "code",
      "source": [
        "data_final.isna().sum()"
      ],
      "metadata": {
        "colab": {
          "base_uri": "https://localhost:8080/"
        },
        "id": "Clni668YhqAu",
        "outputId": "23217344-ecff-47ad-dfc0-6032c2a5dcb4"
      },
      "execution_count": null,
      "outputs": [
        {
          "output_type": "execute_result",
          "data": {
            "text/plain": [
              "Model                      0\n",
              "Company                    0\n",
              "Engine Type                0\n",
              "HP or lbs thr ea engine    0\n",
              "Max speed Knots            0\n",
              "Rcmnd cruise Knots         0\n",
              "Stall Knots dirty          0\n",
              "All eng rate of climb      0\n",
              "Gross weight lbs           0\n",
              "Empty weight lbs           0\n",
              "Length ft/in               0\n",
              "Height ft/in               0\n",
              "Wing span ft/in            0\n",
              "Range N.M.                 0\n",
              "row_num                    0\n",
              "Fuel gal/lbs               0\n",
              "All eng service ceiling    0\n",
              "Takeoff over 50ft          0\n",
              "Takeoff ground run         0\n",
              "Landing over 50ft          0\n",
              "Landing ground roll        0\n",
              "dtype: int64"
            ]
          },
          "metadata": {},
          "execution_count": 221
        }
      ]
    },
    {
      "cell_type": "markdown",
      "source": [
        "## Кодирование категорий целочисленными значениями"
      ],
      "metadata": {
        "id": "kktMpcEd3-RA"
      }
    },
    {
      "cell_type": "code",
      "source": [
        "from sklearn.preprocessing import LabelEncoder"
      ],
      "metadata": {
        "id": "XSjtXbnJzWx5"
      },
      "execution_count": null,
      "outputs": []
    },
    {
      "cell_type": "code",
      "source": [
        "le = LabelEncoder()\n",
        "cat_enc_le = le.fit_transform(data_final['Engine Type'])"
      ],
      "metadata": {
        "id": "HiubGpaQzWkG"
      },
      "execution_count": null,
      "outputs": []
    },
    {
      "cell_type": "code",
      "source": [
        "data_final['Engine Type'].unique()"
      ],
      "metadata": {
        "colab": {
          "base_uri": "https://localhost:8080/"
        },
        "id": "k95zkQVV34lJ",
        "outputId": "c6658d22-b4e2-43f3-a942-8222af4b151f"
      },
      "execution_count": null,
      "outputs": [
        {
          "output_type": "execute_result",
          "data": {
            "text/plain": [
              "array(['Piston', 'Propjet', 'Jet', 'piston', 'Pistion', 'TSIO 520',\n",
              "       'IO550', 'PT6A-35', 'PT6A-21'], dtype=object)"
            ]
          },
          "metadata": {},
          "execution_count": 229
        }
      ]
    },
    {
      "cell_type": "code",
      "source": [
        "np.unique(cat_enc_le)"
      ],
      "metadata": {
        "colab": {
          "base_uri": "https://localhost:8080/"
        },
        "id": "7QaaYERe35ya",
        "outputId": "2f42fc4d-ad37-4b54-c085-8390df692851"
      },
      "execution_count": null,
      "outputs": [
        {
          "output_type": "execute_result",
          "data": {
            "text/plain": [
              "array([0, 1, 2, 3, 4, 5, 6, 7, 8])"
            ]
          },
          "metadata": {},
          "execution_count": 230
        }
      ]
    },
    {
      "cell_type": "code",
      "source": [
        "le.inverse_transform([0, 1, 2, 3])"
      ],
      "metadata": {
        "colab": {
          "base_uri": "https://localhost:8080/"
        },
        "id": "cSkbXHfg361m",
        "outputId": "a1ce71f9-6414-4fa4-919e-d071c5259b1b"
      },
      "execution_count": null,
      "outputs": [
        {
          "output_type": "execute_result",
          "data": {
            "text/plain": [
              "array(['IO550', 'Jet', 'PT6A-21', 'PT6A-35'], dtype=object)"
            ]
          },
          "metadata": {},
          "execution_count": 231
        }
      ]
    },
    {
      "cell_type": "markdown",
      "source": [
        "## Кодирование категорий наборами бинарных значений"
      ],
      "metadata": {
        "id": "IAp9V81X3-rv"
      }
    },
    {
      "cell_type": "code",
      "source": [
        "from sklearn.preprocessing import OneHotEncoder"
      ],
      "metadata": {
        "id": "4oaAaMS24UsM"
      },
      "execution_count": null,
      "outputs": []
    },
    {
      "cell_type": "code",
      "source": [
        "ohe = OneHotEncoder()\n",
        "cat_enc_ohe = ohe.fit_transform(data_final[['Engine Type']])\n",
        "cat_enc_ohe"
      ],
      "metadata": {
        "colab": {
          "base_uri": "https://localhost:8080/"
        },
        "id": "cKOuoOLH4VK7",
        "outputId": "37bf70bb-fea4-4600-cc74-cfdf37d5a3fc"
      },
      "execution_count": null,
      "outputs": [
        {
          "output_type": "execute_result",
          "data": {
            "text/plain": [
              "<615x9 sparse matrix of type '<class 'numpy.float64'>'\n",
              "\twith 615 stored elements in Compressed Sparse Row format>"
            ]
          },
          "metadata": {},
          "execution_count": 237
        }
      ]
    },
    {
      "cell_type": "code",
      "source": [
        "cat_enc_ohe.todense()[0:10]"
      ],
      "metadata": {
        "colab": {
          "base_uri": "https://localhost:8080/"
        },
        "id": "dTxtWSiT4VGs",
        "outputId": "0fa05a17-96f4-44c9-8f9a-ce11ae58347a"
      },
      "execution_count": null,
      "outputs": [
        {
          "output_type": "execute_result",
          "data": {
            "text/plain": [
              "matrix([[0., 0., 0., 0., 0., 1., 0., 0., 0.],\n",
              "        [0., 0., 0., 0., 0., 1., 0., 0., 0.],\n",
              "        [0., 0., 0., 0., 0., 1., 0., 0., 0.],\n",
              "        [0., 0., 0., 0., 0., 1., 0., 0., 0.],\n",
              "        [0., 0., 0., 0., 0., 1., 0., 0., 0.],\n",
              "        [0., 0., 0., 0., 0., 1., 0., 0., 0.],\n",
              "        [0., 0., 0., 0., 0., 1., 0., 0., 0.],\n",
              "        [0., 0., 0., 0., 0., 1., 0., 0., 0.],\n",
              "        [0., 0., 0., 0., 0., 1., 0., 0., 0.],\n",
              "        [0., 0., 0., 0., 0., 1., 0., 0., 0.]])"
            ]
          },
          "metadata": {},
          "execution_count": 238
        }
      ]
    },
    {
      "cell_type": "code",
      "source": [
        "pd.get_dummies(data_final[['Engine Type']]).head()"
      ],
      "metadata": {
        "colab": {
          "base_uri": "https://localhost:8080/",
          "height": 305
        },
        "id": "rJbRdLMJ4VB3",
        "outputId": "c52c3ca2-1561-424a-dfb0-76303e73dd03"
      },
      "execution_count": null,
      "outputs": [
        {
          "output_type": "execute_result",
          "data": {
            "text/plain": [
              "   Engine Type_IO550  Engine Type_Jet  Engine Type_PT6A-21  \\\n",
              "0                  0                0                    0   \n",
              "1                  0                0                    0   \n",
              "2                  0                0                    0   \n",
              "3                  0                0                    0   \n",
              "4                  0                0                    0   \n",
              "\n",
              "   Engine Type_PT6A-35  Engine Type_Pistion  Engine Type_Piston  \\\n",
              "0                    0                    0                   1   \n",
              "1                    0                    0                   1   \n",
              "2                    0                    0                   1   \n",
              "3                    0                    0                   1   \n",
              "4                    0                    0                   1   \n",
              "\n",
              "   Engine Type_Propjet  Engine Type_TSIO 520  Engine Type_piston  \n",
              "0                    0                     0                   0  \n",
              "1                    0                     0                   0  \n",
              "2                    0                     0                   0  \n",
              "3                    0                     0                   0  \n",
              "4                    0                     0                   0  "
            ],
            "text/html": [
              "\n",
              "  <div id=\"df-2f4d227b-3694-4dd2-8894-4e05d921c7bd\">\n",
              "    <div class=\"colab-df-container\">\n",
              "      <div>\n",
              "<style scoped>\n",
              "    .dataframe tbody tr th:only-of-type {\n",
              "        vertical-align: middle;\n",
              "    }\n",
              "\n",
              "    .dataframe tbody tr th {\n",
              "        vertical-align: top;\n",
              "    }\n",
              "\n",
              "    .dataframe thead th {\n",
              "        text-align: right;\n",
              "    }\n",
              "</style>\n",
              "<table border=\"1\" class=\"dataframe\">\n",
              "  <thead>\n",
              "    <tr style=\"text-align: right;\">\n",
              "      <th></th>\n",
              "      <th>Engine Type_IO550</th>\n",
              "      <th>Engine Type_Jet</th>\n",
              "      <th>Engine Type_PT6A-21</th>\n",
              "      <th>Engine Type_PT6A-35</th>\n",
              "      <th>Engine Type_Pistion</th>\n",
              "      <th>Engine Type_Piston</th>\n",
              "      <th>Engine Type_Propjet</th>\n",
              "      <th>Engine Type_TSIO 520</th>\n",
              "      <th>Engine Type_piston</th>\n",
              "    </tr>\n",
              "  </thead>\n",
              "  <tbody>\n",
              "    <tr>\n",
              "      <th>0</th>\n",
              "      <td>0</td>\n",
              "      <td>0</td>\n",
              "      <td>0</td>\n",
              "      <td>0</td>\n",
              "      <td>0</td>\n",
              "      <td>1</td>\n",
              "      <td>0</td>\n",
              "      <td>0</td>\n",
              "      <td>0</td>\n",
              "    </tr>\n",
              "    <tr>\n",
              "      <th>1</th>\n",
              "      <td>0</td>\n",
              "      <td>0</td>\n",
              "      <td>0</td>\n",
              "      <td>0</td>\n",
              "      <td>0</td>\n",
              "      <td>1</td>\n",
              "      <td>0</td>\n",
              "      <td>0</td>\n",
              "      <td>0</td>\n",
              "    </tr>\n",
              "    <tr>\n",
              "      <th>2</th>\n",
              "      <td>0</td>\n",
              "      <td>0</td>\n",
              "      <td>0</td>\n",
              "      <td>0</td>\n",
              "      <td>0</td>\n",
              "      <td>1</td>\n",
              "      <td>0</td>\n",
              "      <td>0</td>\n",
              "      <td>0</td>\n",
              "    </tr>\n",
              "    <tr>\n",
              "      <th>3</th>\n",
              "      <td>0</td>\n",
              "      <td>0</td>\n",
              "      <td>0</td>\n",
              "      <td>0</td>\n",
              "      <td>0</td>\n",
              "      <td>1</td>\n",
              "      <td>0</td>\n",
              "      <td>0</td>\n",
              "      <td>0</td>\n",
              "    </tr>\n",
              "    <tr>\n",
              "      <th>4</th>\n",
              "      <td>0</td>\n",
              "      <td>0</td>\n",
              "      <td>0</td>\n",
              "      <td>0</td>\n",
              "      <td>0</td>\n",
              "      <td>1</td>\n",
              "      <td>0</td>\n",
              "      <td>0</td>\n",
              "      <td>0</td>\n",
              "    </tr>\n",
              "  </tbody>\n",
              "</table>\n",
              "</div>\n",
              "      <button class=\"colab-df-convert\" onclick=\"convertToInteractive('df-2f4d227b-3694-4dd2-8894-4e05d921c7bd')\"\n",
              "              title=\"Convert this dataframe to an interactive table.\"\n",
              "              style=\"display:none;\">\n",
              "        \n",
              "  <svg xmlns=\"http://www.w3.org/2000/svg\" height=\"24px\"viewBox=\"0 0 24 24\"\n",
              "       width=\"24px\">\n",
              "    <path d=\"M0 0h24v24H0V0z\" fill=\"none\"/>\n",
              "    <path d=\"M18.56 5.44l.94 2.06.94-2.06 2.06-.94-2.06-.94-.94-2.06-.94 2.06-2.06.94zm-11 1L8.5 8.5l.94-2.06 2.06-.94-2.06-.94L8.5 2.5l-.94 2.06-2.06.94zm10 10l.94 2.06.94-2.06 2.06-.94-2.06-.94-.94-2.06-.94 2.06-2.06.94z\"/><path d=\"M17.41 7.96l-1.37-1.37c-.4-.4-.92-.59-1.43-.59-.52 0-1.04.2-1.43.59L10.3 9.45l-7.72 7.72c-.78.78-.78 2.05 0 2.83L4 21.41c.39.39.9.59 1.41.59.51 0 1.02-.2 1.41-.59l7.78-7.78 2.81-2.81c.8-.78.8-2.07 0-2.86zM5.41 20L4 18.59l7.72-7.72 1.47 1.35L5.41 20z\"/>\n",
              "  </svg>\n",
              "      </button>\n",
              "      \n",
              "  <style>\n",
              "    .colab-df-container {\n",
              "      display:flex;\n",
              "      flex-wrap:wrap;\n",
              "      gap: 12px;\n",
              "    }\n",
              "\n",
              "    .colab-df-convert {\n",
              "      background-color: #E8F0FE;\n",
              "      border: none;\n",
              "      border-radius: 50%;\n",
              "      cursor: pointer;\n",
              "      display: none;\n",
              "      fill: #1967D2;\n",
              "      height: 32px;\n",
              "      padding: 0 0 0 0;\n",
              "      width: 32px;\n",
              "    }\n",
              "\n",
              "    .colab-df-convert:hover {\n",
              "      background-color: #E2EBFA;\n",
              "      box-shadow: 0px 1px 2px rgba(60, 64, 67, 0.3), 0px 1px 3px 1px rgba(60, 64, 67, 0.15);\n",
              "      fill: #174EA6;\n",
              "    }\n",
              "\n",
              "    [theme=dark] .colab-df-convert {\n",
              "      background-color: #3B4455;\n",
              "      fill: #D2E3FC;\n",
              "    }\n",
              "\n",
              "    [theme=dark] .colab-df-convert:hover {\n",
              "      background-color: #434B5C;\n",
              "      box-shadow: 0px 1px 3px 1px rgba(0, 0, 0, 0.15);\n",
              "      filter: drop-shadow(0px 1px 2px rgba(0, 0, 0, 0.3));\n",
              "      fill: #FFFFFF;\n",
              "    }\n",
              "  </style>\n",
              "\n",
              "      <script>\n",
              "        const buttonEl =\n",
              "          document.querySelector('#df-2f4d227b-3694-4dd2-8894-4e05d921c7bd button.colab-df-convert');\n",
              "        buttonEl.style.display =\n",
              "          google.colab.kernel.accessAllowed ? 'block' : 'none';\n",
              "\n",
              "        async function convertToInteractive(key) {\n",
              "          const element = document.querySelector('#df-2f4d227b-3694-4dd2-8894-4e05d921c7bd');\n",
              "          const dataTable =\n",
              "            await google.colab.kernel.invokeFunction('convertToInteractive',\n",
              "                                                     [key], {});\n",
              "          if (!dataTable) return;\n",
              "\n",
              "          const docLinkHtml = 'Like what you see? Visit the ' +\n",
              "            '<a target=\"_blank\" href=https://colab.research.google.com/notebooks/data_table.ipynb>data table notebook</a>'\n",
              "            + ' to learn more about interactive tables.';\n",
              "          element.innerHTML = '';\n",
              "          dataTable['output_type'] = 'display_data';\n",
              "          await google.colab.output.renderOutput(dataTable, element);\n",
              "          const docLink = document.createElement('div');\n",
              "          docLink.innerHTML = docLinkHtml;\n",
              "          element.appendChild(docLink);\n",
              "        }\n",
              "      </script>\n",
              "    </div>\n",
              "  </div>\n",
              "  "
            ]
          },
          "metadata": {},
          "execution_count": 239
        }
      ]
    },
    {
      "cell_type": "markdown",
      "source": [
        "# Нормализация числовых признаков"
      ],
      "metadata": {
        "id": "LO6Iz1n7hpt5"
      }
    },
    {
      "cell_type": "code",
      "source": [
        "def diagnostic_plots(df, variable):\n",
        "    plt.figure(figsize=(15,6))\n",
        "    # гистограмма\n",
        "    plt.subplot(1, 2, 1)\n",
        "    df[variable].hist(bins=30)\n",
        "    ## Q-Q plot\n",
        "    plt.subplot(1, 2, 2)\n",
        "    stats.probplot(df[variable], dist=\"norm\", plot=plt)\n",
        "    plt.show()"
      ],
      "metadata": {
        "id": "CbPs2ehL7WcQ"
      },
      "execution_count": null,
      "outputs": []
    },
    {
      "cell_type": "code",
      "source": [
        "cols_integer = []\n",
        "cols_string = []\n",
        "for col in data_final.columns:\n",
        "  try:\n",
        "    data_final[col] = data_final[col].astype(float)\n",
        "    print(f'{col} : Success')\n",
        "    cols_integer.append(col)\n",
        "  except Exception as e:\n",
        "    print(f'{col} : {repr(e)}')\n",
        "    cols_string.append(col)\n",
        "    continue"
      ],
      "metadata": {
        "colab": {
          "base_uri": "https://localhost:8080/"
        },
        "id": "u8wmm_iL-AiA",
        "outputId": "b782f717-f96f-4c4a-b5cf-846c86c3d276"
      },
      "execution_count": null,
      "outputs": [
        {
          "output_type": "stream",
          "name": "stdout",
          "text": [
            "Model : ValueError(\"could not convert string to float: '15 AC Sedan'\")\n",
            "Company : ValueError(\"could not convert string to float: 'Aeronca'\")\n",
            "Engine Type : ValueError(\"could not convert string to float: 'Piston'\")\n",
            "HP or lbs thr ea engine : ValueError(\"could not convert string to float: '1000 dry'\")\n",
            "Max speed Knots : ValueError(\"could not convert string to float: '.85 Mach'\")\n",
            "Rcmnd cruise Knots : Success\n",
            "Stall Knots dirty : Success\n",
            "All eng rate of climb : ValueError(\"could not convert string to float: '1,030 w/3bld'\")\n",
            "Gross weight lbs : ValueError(\"could not convert string to float: 'Orig'\")\n",
            "Empty weight lbs : Success\n",
            "Length ft/in : ValueError(\"could not convert string to float: '25/3'\")\n",
            "Height ft/in : ValueError(\"could not convert string to float: '10/3'\")\n",
            "Wing span ft/in : ValueError(\"could not convert string to float: '37/5'\")\n",
            "Range N.M. : Success\n",
            "row_num : Success\n",
            "Fuel gal/lbs : Success\n",
            "All eng service ceiling : Success\n",
            "Takeoff over 50ft : Success\n",
            "Takeoff ground run : Success\n",
            "Landing over 50ft : Success\n",
            "Landing ground roll : Success\n"
          ]
        }
      ]
    },
    {
      "cell_type": "code",
      "source": [
        "data_final.hist(figsize=(20,20))\n",
        "plt.show()"
      ],
      "metadata": {
        "colab": {
          "base_uri": "https://localhost:8080/",
          "height": 643
        },
        "id": "maTdD7aG7WZC",
        "outputId": "39195fed-4900-4c0f-f09d-f371d4da92c1"
      },
      "execution_count": null,
      "outputs": [
        {
          "output_type": "display_data",
          "data": {
            "text/plain": [
              "<Figure size 1440x1440 with 12 Axes>"
            ],
            "image/png": "[encoded data removed]"
          },
          "metadata": {
            "needs_background": "light"
          }
        }
      ]
    },
    {
      "cell_type": "code",
      "source": [
        "diagnostic_plots(data_final, 'Range N.M.')"
      ],
      "metadata": {
        "colab": {
          "base_uri": "https://localhost:8080/",
          "height": 301
        },
        "id": "CwHjRHHu7WWJ",
        "outputId": "6e3154ee-f9f7-448f-9f7b-f450075a591e"
      },
      "execution_count": null,
      "outputs": [
        {
          "output_type": "display_data",
          "data": {
            "text/plain": [
              "<Figure size 1080x432 with 2 Axes>"
            ],
            "image/png": "[encoded data removed]"
          },
          "metadata": {
            "needs_background": "light"
          }
        }
      ]
    },
    {
      "cell_type": "code",
      "source": [
        "#Логарифмическое преобразование\n",
        "data_final['Range N.M._log'] = np.log(data_final['Range N.M.'])\n",
        "diagnostic_plots(data_final, 'Range N.M._log')"
      ],
      "metadata": {
        "colab": {
          "base_uri": "https://localhost:8080/",
          "height": 303
        },
        "id": "-HL1IPv99XID",
        "outputId": "93fa83d9-5be2-4c12-bdd2-20c9c6b7a328"
      },
      "execution_count": null,
      "outputs": [
        {
          "output_type": "display_data",
          "data": {
            "text/plain": [
              "<Figure size 1080x432 with 2 Axes>"
            ],
            "image/png": "[encoded data removed]"
          },
          "metadata": {
            "needs_background": "light"
          }
        }
      ]
    },
    {
      "cell_type": "code",
      "source": [
        "#Обратное преобразование\n",
        "data_final['Range N.M._reciprocal'] = 1 / (data_final['Range N.M.']) \n",
        "diagnostic_plots(data_final, 'Range N.M._reciprocal')"
      ],
      "metadata": {
        "colab": {
          "base_uri": "https://localhost:8080/",
          "height": 301
        },
        "id": "nKm3RqSX9XE0",
        "outputId": "80ff666c-89a2-4107-9a91-fb137523881e"
      },
      "execution_count": null,
      "outputs": [
        {
          "output_type": "display_data",
          "data": {
            "text/plain": [
              "<Figure size 1080x432 with 2 Axes>"
            ],
            "image/png": "[encoded data removed]"
          },
          "metadata": {
            "needs_background": "light"
          }
        }
      ]
    },
    {
      "cell_type": "code",
      "source": [
        "#Квадратный корень\n",
        "data_final['Range N.M._sqr'] = data_final['Range N.M.']**(1/2) \n",
        "diagnostic_plots(data_final, 'Range N.M._sqr')"
      ],
      "metadata": {
        "colab": {
          "base_uri": "https://localhost:8080/",
          "height": 303
        },
        "id": "SpqyPUI49XBs",
        "outputId": "7a25aff0-f78d-4538-bf8f-a1a60e8c4a27"
      },
      "execution_count": null,
      "outputs": [
        {
          "output_type": "display_data",
          "data": {
            "text/plain": [
              "<Figure size 1080x432 with 2 Axes>"
            ],
            "image/png": "[encoded data removed]"
          },
          "metadata": {
            "needs_background": "light"
          }
        }
      ]
    },
    {
      "cell_type": "code",
      "source": [
        "#Возведение в степень\n",
        "data_final['Range N.M._exp1'] = data_final['Range N.M.']**(1/1.5)\n",
        "diagnostic_plots(data_final, 'Range N.M._exp1')"
      ],
      "metadata": {
        "colab": {
          "base_uri": "https://localhost:8080/",
          "height": 303
        },
        "id": "wfz4_sRN9W-H",
        "outputId": "b0c588d3-b8f3-45bc-9fa3-54939eecf94a"
      },
      "execution_count": null,
      "outputs": [
        {
          "output_type": "display_data",
          "data": {
            "text/plain": [
              "<Figure size 1080x432 with 2 Axes>"
            ],
            "image/png": "[encoded data removed]"
          },
          "metadata": {
            "needs_background": "light"
          }
        }
      ]
    },
    {
      "cell_type": "code",
      "source": [
        "data_final['Range N.M._exp2'] = data_final['Range N.M.']**(2)\n",
        "diagnostic_plots(data_final, 'Range N.M._exp2')"
      ],
      "metadata": {
        "colab": {
          "base_uri": "https://localhost:8080/",
          "height": 301
        },
        "id": "UuQFUkjn9W5p",
        "outputId": "f23c3a89-d351-4ff3-f70b-be6c9837bb09"
      },
      "execution_count": null,
      "outputs": [
        {
          "output_type": "display_data",
          "data": {
            "text/plain": [
              "<Figure size 1080x432 with 2 Axes>"
            ],
            "image/png": "[encoded data removed]"
          },
          "metadata": {
            "needs_background": "light"
          }
        }
      ]
    },
    {
      "cell_type": "code",
      "source": [
        "data_final['Range N.M._exp3'] = data_final['Range N.M.']**(0.333)\n",
        "diagnostic_plots(data_final, 'Range N.M._exp3')"
      ],
      "metadata": {
        "colab": {
          "base_uri": "https://localhost:8080/",
          "height": 303
        },
        "id": "kv6A7BML9Wge",
        "outputId": "0c624bfa-bc6e-435b-9549-d3286e3b11be"
      },
      "execution_count": null,
      "outputs": [
        {
          "output_type": "display_data",
          "data": {
            "text/plain": [
              "<Figure size 1080x432 with 2 Axes>"
            ],
            "image/png": "[encoded data removed]"
          },
          "metadata": {
            "needs_background": "light"
          }
        }
      ]
    },
    {
      "cell_type": "code",
      "source": [
        "data_final['Range N.M._exp4'] = data_final['Range N.M.']**(0.1)\n",
        "diagnostic_plots(data_final, 'Range N.M._exp4')"
      ],
      "metadata": {
        "colab": {
          "base_uri": "https://localhost:8080/",
          "height": 303
        },
        "id": "D2EmFScuA13J",
        "outputId": "d8cabf44-f946-46b5-ef57-291c5a45bbb0"
      },
      "execution_count": null,
      "outputs": [
        {
          "output_type": "display_data",
          "data": {
            "text/plain": [
              "<Figure size 1080x432 with 2 Axes>"
            ],
            "image/png": "[encoded data removed]"
          },
          "metadata": {
            "needs_background": "light"
          }
        }
      ]
    },
    {
      "cell_type": "code",
      "source": [
        "#Преобразованиея Бокса-Кокса\n",
        "data_final['Range N.M._boxcox'], param = stats.boxcox(data_final['Range N.M.']) \n",
        "print('Оптимальное значение λ = {}'.format(param))\n",
        "diagnostic_plots(data_final, 'Range N.M._boxcox')"
      ],
      "metadata": {
        "colab": {
          "base_uri": "https://localhost:8080/",
          "height": 321
        },
        "id": "sTf-zW_x7WNt",
        "outputId": "a6819a21-5986-4d98-81b9-203e0fda8942"
      },
      "execution_count": null,
      "outputs": [
        {
          "output_type": "stream",
          "name": "stdout",
          "text": [
            "Оптимальное значение λ = -0.07070159532603848\n"
          ]
        },
        {
          "output_type": "display_data",
          "data": {
            "text/plain": [
              "<Figure size 1080x432 with 2 Axes>"
            ],
            "image/png": "[encoded data removed]"
          },
          "metadata": {
            "needs_background": "light"
          }
        }
      ]
    },
    {
      "cell_type": "code",
      "source": [
        "# Для сравнения\n",
        "diagnostic_plots(data_final, 'Range N.M._log')"
      ],
      "metadata": {
        "colab": {
          "base_uri": "https://localhost:8080/",
          "height": 303
        },
        "id": "WRd5KopxBJxc",
        "outputId": "585788e8-2fa4-4bae-9cd9-bfc80dbf0606"
      },
      "execution_count": null,
      "outputs": [
        {
          "output_type": "display_data",
          "data": {
            "text/plain": [
              "<Figure size 1080x432 with 2 Axes>"
            ],
            "image/png": "[encoded data removed]"
          },
          "metadata": {
            "needs_background": "light"
          }
        }
      ]
    },
    {
      "cell_type": "markdown",
      "source": [
        "> Очищенный набор данных сохарнен для дальнейшего использования:"
      ],
      "metadata": {
        "id": "MRY3bL8bXJ9o"
      }
    },
    {
      "cell_type": "code",
      "source": [
        "data_final.to_csv('cleaned_data_airplanes.csv', index = False)"
      ],
      "metadata": {
        "id": "187NE5VcDV_Z"
      },
      "execution_count": null,
      "outputs": []
    }
  ]
}